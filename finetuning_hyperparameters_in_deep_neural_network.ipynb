{
 "cells": [
  {
   "cell_type": "code",
   "execution_count": 94,
   "source": [
    "import numpy as np # linear algebra\n",
    "import pandas as pd # data processing, CSV file I/O (e.g. pd.read_csv)\n",
    "import matplotlib.pyplot as plt\n",
    "#import seaborn as sn\n",
    "from sklearn.model_selection import train_test_split\n",
    "\n",
    "from random import seed\n",
    "seed(1)\n",
    "seed = 43\n",
    "\n",
    "import tensorflow as tf\n",
    "from tensorflow import keras\n",
    "print(\"Tensorflow Version: \", tf.__version__)\n",
    "print(\"Keras Version: \",keras.__version__)\n",
    "\n",
    "\n",
    "kaggle = 0 # Kaggle path active = 1\n",
    "\n",
    "# change your local path here\n",
    "if kaggle == 1 :\n",
    "    MNIST_PATH= '../input/digit-recognizer'\n",
    "else:\n",
    "    MNIST_PATH= '../Digit_Recognition_with_a_Deep_Neural_Network/data/input/digit-recognizer'\n",
    "\n",
    "\n",
    "\n",
    "import os\n",
    "for dirname, _, filenames in os.walk(MNIST_PATH): \n",
    "    for filename in filenames:\n",
    "        print(os.path.join(dirname, filename))\n",
    "        "
   ],
   "outputs": [
    {
     "output_type": "stream",
     "name": "stdout",
     "text": [
      "Tensorflow Version:  2.3.0\n",
      "Keras Version:  2.4.0\n",
      "../Digit_Recognition_with_a_Deep_Neural_Network/data/input/digit-recognizer\\keras_reg_160_10_002.sav\n",
      "../Digit_Recognition_with_a_Deep_Neural_Network/data/input/digit-recognizer\\keras_reg_jl_160_10_002.sav\n",
      "../Digit_Recognition_with_a_Deep_Neural_Network/data/input/digit-recognizer\\sample_submission.csv\n",
      "../Digit_Recognition_with_a_Deep_Neural_Network/data/input/digit-recognizer\\test.csv\n",
      "../Digit_Recognition_with_a_Deep_Neural_Network/data/input/digit-recognizer\\train.csv\n"
     ]
    }
   ],
   "metadata": {}
  },
  {
   "cell_type": "markdown",
   "source": [
    "# Introduction - MNIST Training Competition\n",
    "This notebook is a fork of my previous developed notebook for digit recognition. Therefore you will find some parts that look common the the notebook <a href=\"https://www.kaggle.com/skiplik/digit-recognition-with-a-deep-neural-network\">Digit Recognition with a Deep Neural Network</a> and some parts that are completely different.\n",
    "\n",
    "With this I want to take a deeper look in some parts of finetuning hyperparameters. The following list shows some of the finetuning parameters which I will take a look into, one or two ore more ... :\n",
    "- Dwindling / Exploding Gradients\n",
    "    - <b>Initializing the Weights</b>\n",
    "    - <b>Batchnormalization</b>\n",
    "    - <s>Gradient Clipping</s>\n",
    "    - <b>Saturated Activataion Functions</b>\n",
    "- Optimizers\n",
    "    - <s>Momentum Optimizers</s>\n",
    "    - <s>Nesterov</s>\n",
    "    - <s>AdaGrad</s>\n",
    "    - <s>RMSProp</s>\n",
    "    - <b>Adam - Optimizer</b>\n",
    "    - <s>Scheduling Learnrate</s>\n",
    "- Regulations\n",
    "    - <s>Drop-Outs</s>\n",
    "    - <b>l1 / l2 - Regulations</b>\n",
    "    - <s>Monte-Carlo Drop-out ???</s>\n",
    "    - <s>Max Norm Regulations ????</s>\n",
    "\n",
    "Not part of this notebook will be the use of pretrained neural networks (Transferlearning). I just want to list this here for the sake of completeness.\n",
    "\n",
    "Link to the data topic: https://www.kaggle.com/c/digit-recognizer/data\n",
    "\n",
    "As in the previous notebooks I will use Tensorflow with Keras. I already mentioned in other notebooks, I will skip some explanations about the data set here. Moreover I will use the already discovered knowledge about the data and transform/prepare the data rightaway.\n",
    "\n",
    "## Notebook Versions with Different Hyperparameter Configurations\n",
    "As described in the part above, I used/tested different hyperparameter settings to get a little bit closer to its effects on the neural network and the network's results. I know that there are parameters that effect other parameters when they have changed (and therefore should have been changed as well), however in these cases I just tried a little bit around. Sometimes I kept one or two parameters together, which should be together (e.g. kernel initializer \"lecun\" and activation function \"selu\") and sometimes not. The main purpose here was to use them and see the results.\n",
    "\n",
    "Therefore on Kaggle you can look in the different versions of this notebook if you are interested. In the following I will list some versions with the used hyperparameter config in it:\n",
    "- Version 7 and 6:\n",
    "    - Activation Function - \"relu\"\n",
    "    - Initializing Weights - \"He Normalization\"\n",
    "    - Batchnormalization\n",
    "- Version 9:\n",
    "    - Activation Function - \"selu\"\n",
    "    - Initializing Weights - \"LeCun Normal\"\n",
    "- Version 12 and 14:\n",
    "    - Regularisation with L1 and L2\n",
    "- Version 15:\n",
    "    - Activation Function - \"relu\"\n",
    "    - Initializing Weights - \"He Normalization\"\n",
    "    - Batchnormalization\n",
    "    - Optimizer - \"Adam\"\n",
    "\n",
    "The current best run was based on the Version 7 with an accuracy of 0.97657 on the kaggle competition \"Digit Recognzier\"\n",
    "\n",
    "\n",
    "## My other Projects\n",
    "If you are interested in some more clearly analysis of the dataset take a look into my other notebooks about the MNIS-dataset:\n",
    "- Digit Recognition with a Deep Neural Network: https://www.kaggle.com/skiplik/digit-recognition-with-a-deep-neural-network\n",
    "- Another MNIST Try: https://www.kaggle.com/skiplik/another-mnist-try\n",
    "- First NN by Detecting Handwritten Characters: https://www.kaggle.com/skiplik/first-nn-by-detecting-handwritten-characters\n",
    "...\n",
    "\n",
    "\n"
   ],
   "metadata": {}
  },
  {
   "cell_type": "markdown",
   "source": [
    "# Get Data"
   ],
   "metadata": {}
  },
  {
   "cell_type": "code",
   "execution_count": 130,
   "source": [
    "# Data path and file\n",
    "CSV_FILE_TRAIN='train.csv'\n",
    "CSV_FILE_TEST='test.csv'\n",
    "\n",
    "def load_mnist_data(minist_path, csv_file):\n",
    "    csv_path = os.path.join(minist_path, csv_file)\n",
    "    return pd.read_csv(csv_path)\n",
    "\n",
    "def load_mnist_data_manuel(minist_path, csv_file):\n",
    "    csv_path = os.path.join(minist_path, csv_file)\n",
    "    csv_file = open(csv_path, 'r')\n",
    "    csv_data = csv_file.readlines()\n",
    "    csv_file.close()\n",
    "    return csv_data\n",
    "\n",
    "def split_train_val(data, val_ratio):\n",
    "    return \n",
    "    \n",
    "\n",
    "train = load_mnist_data(MNIST_PATH,CSV_FILE_TRAIN)\n",
    "test = load_mnist_data(MNIST_PATH,CSV_FILE_TEST)"
   ],
   "outputs": [],
   "metadata": {}
  },
  {
   "cell_type": "code",
   "execution_count": 96,
   "source": [
    "y = train['label'].copy()\n",
    "X = train.drop(['label'], axis=1)\n",
    "\n",
    "X_test = test.copy()"
   ],
   "outputs": [],
   "metadata": {}
  },
  {
   "cell_type": "markdown",
   "source": [
    "## Train / Val Split"
   ],
   "metadata": {}
  },
  {
   "cell_type": "code",
   "execution_count": 97,
   "source": [
    "print(\"Shape of the Features: \",X.shape)\n",
    "print(\"Shape of the Labels: \", y.shape)"
   ],
   "outputs": [
    {
     "output_type": "stream",
     "name": "stdout",
     "text": [
      "Shape of the Features:  (42000, 784)\n",
      "Shape of the Labels:  (42000,)\n"
     ]
    }
   ],
   "metadata": {}
  },
  {
   "cell_type": "markdown",
   "source": [
    "### Label Value Count\r\n",
    "Visualizing the label distribution of the full train dataset."
   ],
   "metadata": {}
  },
  {
   "cell_type": "code",
   "execution_count": 98,
   "source": [
    "train.value_counts('label')"
   ],
   "outputs": [
    {
     "output_type": "execute_result",
     "data": {
      "text/plain": [
       "label\n",
       "1    4684\n",
       "7    4401\n",
       "3    4351\n",
       "9    4188\n",
       "2    4177\n",
       "6    4137\n",
       "0    4132\n",
       "4    4072\n",
       "8    4063\n",
       "5    3795\n",
       "dtype: int64"
      ]
     },
     "metadata": {},
     "execution_count": 98
    }
   ],
   "metadata": {}
  },
  {
   "cell_type": "code",
   "execution_count": 99,
   "source": [
    "X_train, X_val, y_train, y_val = train_test_split(X, y, random_state=seed, test_size=0.20\n",
    "                                                  , stratify=y\n",
    "                                                 )"
   ],
   "outputs": [],
   "metadata": {}
  },
  {
   "cell_type": "markdown",
   "source": [
    "Comparing the equally splitted train- and val-sets based on the given label y."
   ],
   "metadata": {}
  },
  {
   "cell_type": "code",
   "execution_count": 100,
   "source": [
    "print(\"Train - Set Distribution\")\n",
    "print(y_train.value_counts() / y_train.value_counts().sum() )\n",
    "print('--------------------------------------------------------------')\n",
    "print('--------------------------------------------------------------')\n",
    "print('--------------------------------------------------------------')\n",
    "print(\"Val - Set Distribution\")\n",
    "print(y_val.value_counts() / y_val.value_counts().sum() )\n"
   ],
   "outputs": [
    {
     "output_type": "stream",
     "name": "stdout",
     "text": [
      "Train - Set Distribution\n",
      "1    0.111518\n",
      "7    0.104792\n",
      "3    0.103601\n",
      "9    0.099702\n",
      "2    0.099464\n",
      "6    0.098512\n",
      "0    0.098363\n",
      "4    0.096964\n",
      "8    0.096726\n",
      "5    0.090357\n",
      "Name: label, dtype: float64\n",
      "--------------------------------------------------------------\n",
      "--------------------------------------------------------------\n",
      "--------------------------------------------------------------\n",
      "Val - Set Distribution\n",
      "1    0.111548\n",
      "7    0.104762\n",
      "3    0.103571\n",
      "9    0.099762\n",
      "2    0.099405\n",
      "0    0.098452\n",
      "6    0.098452\n",
      "4    0.096905\n",
      "8    0.096786\n",
      "5    0.090357\n",
      "Name: label, dtype: float64\n"
     ]
    }
   ],
   "metadata": {}
  },
  {
   "cell_type": "code",
   "execution_count": 101,
   "source": [
    "print(\"X: \", X.shape)\n",
    "print(\"X_train: \", X_train.shape)\n",
    "print(\"X_val: \", X_val.shape)\n",
    "\n",
    "print(\"y_train: \", y_train.shape)\n",
    "print(\"y_val: \", y_val.shape)"
   ],
   "outputs": [
    {
     "output_type": "stream",
     "name": "stdout",
     "text": [
      "X:  (42000, 784)\n",
      "X_train:  (33600, 784)\n",
      "X_val:  (8400, 784)\n",
      "y_train:  (33600,)\n",
      "y_val:  (8400,)\n"
     ]
    }
   ],
   "metadata": {}
  },
  {
   "cell_type": "markdown",
   "source": [
    "## Building Transforming Piplines"
   ],
   "metadata": {}
  },
  {
   "cell_type": "code",
   "execution_count": 102,
   "source": [
    "from sklearn.pipeline import Pipeline\n",
    "from sklearn.preprocessing import Normalizer\n",
    "from sklearn.preprocessing import StandardScaler\n",
    "\n",
    "pipeline = Pipeline([\n",
    "    #('normalizer', Normalizer())\n",
    "    ('std_scalar',StandardScaler())\n",
    "])"
   ],
   "outputs": [],
   "metadata": {}
  },
  {
   "cell_type": "code",
   "execution_count": 103,
   "source": [
    "X_train_prep = pipeline.fit_transform(X_train)      # fitting the pipeline to the train and transform it\n",
    "X_val_prep = pipeline.transform(X_val)              # transform val data with this information"
   ],
   "outputs": [],
   "metadata": {}
  },
  {
   "cell_type": "markdown",
   "source": [
    "# Building a Deep Neural Network"
   ],
   "metadata": {}
  },
  {
   "cell_type": "markdown",
   "source": [
    "## Preparing Model Visualization with Tensorboard (not for Kaggle)"
   ],
   "metadata": {}
  },
  {
   "cell_type": "code",
   "execution_count": 104,
   "source": [
    "root_logdir = \"../../tensorboard-logs\"\n",
    "\n",
    "print(\"Relative root_logdir: \",root_logdir)\n",
    "\n",
    "def get_run_logdir():\n",
    "    import time\n",
    "    run_id = time.strftime(\"run_%Y_%m_%d-%H_%M_%S\")\n",
    "    return os.path.join(root_logdir,run_id)"
   ],
   "outputs": [
    {
     "output_type": "stream",
     "name": "stdout",
     "text": [
      "Relative root_logdir:  ../../tensorboard-logs\n"
     ]
    }
   ],
   "metadata": {}
  },
  {
   "cell_type": "code",
   "execution_count": 105,
   "source": [
    "run_logdir = get_run_logdir()\n",
    "print(\"Current run logdir for Tensorboard: \", run_logdir)"
   ],
   "outputs": [
    {
     "output_type": "stream",
     "name": "stdout",
     "text": [
      "Current run logdir for Tensorboard:  ../../tensorboard-logs\\run_2021_10_04-12_44_59\n"
     ]
    }
   ],
   "metadata": {}
  },
  {
   "cell_type": "code",
   "execution_count": 106,
   "source": [
    "run_logdir"
   ],
   "outputs": [
    {
     "output_type": "execute_result",
     "data": {
      "text/plain": [
       "'../../tensorboard-logs\\\\run_2021_10_04-12_44_59'"
      ]
     },
     "metadata": {},
     "execution_count": 106
    }
   ],
   "metadata": {}
  },
  {
   "cell_type": "markdown",
   "source": [
    "### Keras Callbacks for Tensorboard\n",
    "With Keras there is a way of using Callbacks for the Tensorboard to write log files for the board and visualize the different graphs (loss and val curve)\n"
   ],
   "metadata": {}
  },
  {
   "cell_type": "code",
   "execution_count": 107,
   "source": [
    "tensorboard_cb = keras.callbacks.TensorBoard(run_logdir)"
   ],
   "outputs": [],
   "metadata": {}
  },
  {
   "cell_type": "markdown",
   "source": [
    "## Building Model Architecture"
   ],
   "metadata": {}
  },
  {
   "cell_type": "code",
   "execution_count": 108,
   "source": [
    "from keras.layers import LeakyReLU\n",
    "\n",
    "input_shape=[784]\n",
    "input_shape_notFlattened=[28,28]\n",
    "\n",
    "\n",
    "learning_rt = 1e-03 \n",
    "activation_fn = \"relu\"\n",
    "initializer = \"he_normal\"\n",
    "regularizer =  keras.regularizers.l2(0.01)\n",
    "\n",
    "# Model building\n",
    "model = keras.models.Sequential()\n",
    "\n",
    "model.add(keras.layers.Flatten(input_shape=input_shape_notFlattened))\n",
    "model.add(keras.layers.BatchNormalization())\n",
    "model.add(keras.layers.Dense(500, activation=activation_fn, kernel_initializer=initializer, kernel_regularizer= regularizer)) ## add  kernel_regularizer=keras.regularizers.l2(0.01)) ???\n",
    "model.add(keras.layers.BatchNormalization())\n",
    "model.add(keras.layers.Dense(300, activation=activation_fn, kernel_initializer=initializer, kernel_regularizer= regularizer))\n",
    "model.add(keras.layers.BatchNormalization())\n",
    "model.add(keras.layers.Dense(300, activation=activation_fn, kernel_initializer=initializer, kernel_regularizer= regularizer))\n",
    "model.add(keras.layers.BatchNormalization())\n",
    "model.add(keras.layers.Dense(300, activation=activation_fn, kernel_initializer=initializer, kernel_regularizer= regularizer))\n",
    "model.add(keras.layers.BatchNormalization())\n",
    "model.add(keras.layers.Dense(300, activation=activation_fn, kernel_initializer=initializer, kernel_regularizer= regularizer))\n",
    "model.add(keras.layers.BatchNormalization())\n",
    "model.add(keras.layers.Dense(300, activation=activation_fn, kernel_initializer=initializer, kernel_regularizer= regularizer))\n",
    "\n",
    "model.add(keras.layers.Dense(10, activation=\"softmax\", kernel_initializer=\"glorot_uniform\"))\n",
    "\n",
    "\n",
    "optimizer = keras.optimizers.Adam(learning_rate=learning_rt)\n",
    "\n",
    "\n",
    "model.compile(loss='sparse_categorical_crossentropy', optimizer=optimizer, metrics=['accuracy'] )\n"
   ],
   "outputs": [],
   "metadata": {}
  },
  {
   "cell_type": "code",
   "execution_count": 109,
   "source": [
    "model.summary()"
   ],
   "outputs": [
    {
     "output_type": "stream",
     "name": "stdout",
     "text": [
      "Model: \"sequential_5\"\n",
      "_________________________________________________________________\n",
      "Layer (type)                 Output Shape              Param #   \n",
      "=================================================================\n",
      "flatten_5 (Flatten)          (None, 784)               0         \n",
      "_________________________________________________________________\n",
      "batch_normalization_7 (Batch (None, 784)               3136      \n",
      "_________________________________________________________________\n",
      "dense_35 (Dense)             (None, 500)               392500    \n",
      "_________________________________________________________________\n",
      "batch_normalization_8 (Batch (None, 500)               2000      \n",
      "_________________________________________________________________\n",
      "dense_36 (Dense)             (None, 300)               150300    \n",
      "_________________________________________________________________\n",
      "batch_normalization_9 (Batch (None, 300)               1200      \n",
      "_________________________________________________________________\n",
      "dense_37 (Dense)             (None, 300)               90300     \n",
      "_________________________________________________________________\n",
      "batch_normalization_10 (Batc (None, 300)               1200      \n",
      "_________________________________________________________________\n",
      "dense_38 (Dense)             (None, 300)               90300     \n",
      "_________________________________________________________________\n",
      "batch_normalization_11 (Batc (None, 300)               1200      \n",
      "_________________________________________________________________\n",
      "dense_39 (Dense)             (None, 300)               90300     \n",
      "_________________________________________________________________\n",
      "batch_normalization_12 (Batc (None, 300)               1200      \n",
      "_________________________________________________________________\n",
      "dense_40 (Dense)             (None, 300)               90300     \n",
      "_________________________________________________________________\n",
      "dense_41 (Dense)             (None, 10)                3010      \n",
      "=================================================================\n",
      "Total params: 916,946\n",
      "Trainable params: 911,978\n",
      "Non-trainable params: 4,968\n",
      "_________________________________________________________________\n"
     ]
    }
   ],
   "metadata": {}
  },
  {
   "cell_type": "markdown",
   "source": [
    "## Model Checkpoints"
   ],
   "metadata": {}
  },
  {
   "cell_type": "code",
   "execution_count": 110,
   "source": [
    "checkpoint_cb = keras.callbacks.ModelCheckpoint(\"my_train_model.h5\", save_best_only=True, save_weights_only=False)"
   ],
   "outputs": [],
   "metadata": {}
  },
  {
   "cell_type": "markdown",
   "source": [
    "## Model Training"
   ],
   "metadata": {}
  },
  {
   "cell_type": "code",
   "execution_count": 111,
   "source": [
    "history = model.fit(X_train_prep, y_train, epochs=200, validation_data=(X_val_prep, y_val), callbacks=[checkpoint_cb, keras.callbacks.EarlyStopping(patience=20), tensorboard_cb])"
   ],
   "outputs": [
    {
     "output_type": "stream",
     "name": "stdout",
     "text": [
      "Epoch 1/200\n",
      "WARNING:tensorflow:Model was constructed with shape (None, 28, 28) for input Tensor(\"flatten_5_input:0\", shape=(None, 28, 28), dtype=float32), but it was called on an input with incompatible shape (32, 784).\n",
      "WARNING:tensorflow:Model was constructed with shape (None, 28, 28) for input Tensor(\"flatten_5_input:0\", shape=(None, 28, 28), dtype=float32), but it was called on an input with incompatible shape (32, 784).\n",
      "   2/1050 [..............................] - ETA: 8:18 - loss: 42.8592 - accuracy: 0.0938WARNING:tensorflow:Callbacks method `on_train_batch_end` is slow compared to the batch time (batch time: 0.0065s vs `on_train_batch_end` time: 0.9445s). Check your callbacks.\n",
      "1044/1050 [============================>.] - ETA: 0s - loss: 8.3635 - accuracy: 0.8495WARNING:tensorflow:Model was constructed with shape (None, 28, 28) for input Tensor(\"flatten_5_input:0\", shape=(None, 28, 28), dtype=float32), but it was called on an input with incompatible shape (None, 784).\n",
      "1050/1050 [==============================] - 8s 8ms/step - loss: 8.3228 - accuracy: 0.8493 - val_loss: 1.0792 - val_accuracy: 0.8963\n",
      "Epoch 2/200\n",
      "1050/1050 [==============================] - 7s 7ms/step - loss: 1.1528 - accuracy: 0.8535 - val_loss: 1.0300 - val_accuracy: 0.8927\n",
      "Epoch 3/200\n",
      "1050/1050 [==============================] - 7s 6ms/step - loss: 1.1355 - accuracy: 0.8576 - val_loss: 1.1067 - val_accuracy: 0.8755\n",
      "Epoch 4/200\n",
      "1050/1050 [==============================] - 7s 6ms/step - loss: 1.1671 - accuracy: 0.8620 - val_loss: 1.0840 - val_accuracy: 0.8904\n",
      "Epoch 5/200\n",
      "1050/1050 [==============================] - 7s 6ms/step - loss: 1.1335 - accuracy: 0.8714 - val_loss: 0.9490 - val_accuracy: 0.9218\n",
      "Epoch 6/200\n",
      "1050/1050 [==============================] - 7s 6ms/step - loss: 1.0959 - accuracy: 0.8758 - val_loss: 0.9718 - val_accuracy: 0.9135\n",
      "Epoch 7/200\n",
      "1050/1050 [==============================] - 7s 6ms/step - loss: 1.0045 - accuracy: 0.8891 - val_loss: 0.9143 - val_accuracy: 0.9262\n",
      "Epoch 8/200\n",
      "1050/1050 [==============================] - 7s 6ms/step - loss: 0.9391 - accuracy: 0.8951 - val_loss: 0.8740 - val_accuracy: 0.9060\n",
      "Epoch 9/200\n",
      "1050/1050 [==============================] - 7s 6ms/step - loss: 0.8409 - accuracy: 0.9024 - val_loss: 0.6922 - val_accuracy: 0.9399\n",
      "Epoch 10/200\n",
      "1050/1050 [==============================] - 7s 6ms/step - loss: 0.7514 - accuracy: 0.9090 - val_loss: 0.6849 - val_accuracy: 0.9265\n",
      "Epoch 11/200\n",
      "1050/1050 [==============================] - 7s 6ms/step - loss: 0.6899 - accuracy: 0.9132 - val_loss: 0.5762 - val_accuracy: 0.9395\n",
      "Epoch 12/200\n",
      "1050/1050 [==============================] - 7s 6ms/step - loss: 0.6471 - accuracy: 0.9174 - val_loss: 0.6079 - val_accuracy: 0.9293\n",
      "Epoch 13/200\n",
      "1050/1050 [==============================] - 7s 6ms/step - loss: 0.6035 - accuracy: 0.9205 - val_loss: 0.5401 - val_accuracy: 0.9368\n",
      "Epoch 14/200\n",
      "1050/1050 [==============================] - 7s 6ms/step - loss: 0.5718 - accuracy: 0.9226 - val_loss: 0.4987 - val_accuracy: 0.9464\n",
      "Epoch 15/200\n",
      "1050/1050 [==============================] - 7s 6ms/step - loss: 0.5419 - accuracy: 0.9262 - val_loss: 0.4777 - val_accuracy: 0.9456\n",
      "Epoch 16/200\n",
      "1050/1050 [==============================] - 7s 7ms/step - loss: 0.5205 - accuracy: 0.9260 - val_loss: 0.4397 - val_accuracy: 0.9502\n",
      "Epoch 17/200\n",
      "1050/1050 [==============================] - 7s 6ms/step - loss: 0.5129 - accuracy: 0.9253 - val_loss: 0.4494 - val_accuracy: 0.9436\n",
      "Epoch 18/200\n",
      "1050/1050 [==============================] - 7s 6ms/step - loss: 0.4840 - accuracy: 0.9296 - val_loss: 0.3965 - val_accuracy: 0.9548\n",
      "Epoch 19/200\n",
      "1050/1050 [==============================] - 7s 7ms/step - loss: 0.4712 - accuracy: 0.9301 - val_loss: 0.4341 - val_accuracy: 0.9458\n",
      "Epoch 20/200\n",
      "1050/1050 [==============================] - 7s 6ms/step - loss: 0.4576 - accuracy: 0.9324 - val_loss: 0.4151 - val_accuracy: 0.9462\n",
      "Epoch 21/200\n",
      "1050/1050 [==============================] - 7s 6ms/step - loss: 0.4474 - accuracy: 0.9322 - val_loss: 0.4567 - val_accuracy: 0.9349\n",
      "Epoch 22/200\n",
      "1050/1050 [==============================] - 7s 7ms/step - loss: 0.4459 - accuracy: 0.9314 - val_loss: 0.3722 - val_accuracy: 0.9539\n",
      "Epoch 23/200\n",
      "1050/1050 [==============================] - 7s 6ms/step - loss: 0.4275 - accuracy: 0.9341 - val_loss: 0.3780 - val_accuracy: 0.9523\n",
      "Epoch 24/200\n",
      "1050/1050 [==============================] - 7s 6ms/step - loss: 0.4165 - accuracy: 0.9350 - val_loss: 0.3685 - val_accuracy: 0.9519\n",
      "Epoch 25/200\n",
      "1050/1050 [==============================] - 7s 6ms/step - loss: 0.4092 - accuracy: 0.9366 - val_loss: 0.3652 - val_accuracy: 0.9539\n",
      "Epoch 26/200\n",
      "1050/1050 [==============================] - 7s 6ms/step - loss: 0.4074 - accuracy: 0.9367 - val_loss: 0.3909 - val_accuracy: 0.9477\n",
      "Epoch 27/200\n",
      "1050/1050 [==============================] - 7s 6ms/step - loss: 0.4081 - accuracy: 0.9347 - val_loss: 0.3625 - val_accuracy: 0.9517\n",
      "Epoch 28/200\n",
      "1050/1050 [==============================] - 7s 6ms/step - loss: 0.3973 - accuracy: 0.9359 - val_loss: 0.3556 - val_accuracy: 0.9538\n",
      "Epoch 29/200\n",
      "1050/1050 [==============================] - 7s 6ms/step - loss: 0.3861 - accuracy: 0.9397 - val_loss: 0.3677 - val_accuracy: 0.9479\n",
      "Epoch 30/200\n",
      "1050/1050 [==============================] - 7s 7ms/step - loss: 0.3805 - accuracy: 0.9394 - val_loss: 0.3508 - val_accuracy: 0.9505\n",
      "Epoch 31/200\n",
      "1050/1050 [==============================] - 7s 7ms/step - loss: 0.3788 - accuracy: 0.9377 - val_loss: 0.3335 - val_accuracy: 0.9539\n",
      "Epoch 32/200\n",
      "1050/1050 [==============================] - 7s 6ms/step - loss: 0.3874 - accuracy: 0.9361 - val_loss: 0.3461 - val_accuracy: 0.9552\n",
      "Epoch 33/200\n",
      "1050/1050 [==============================] - 7s 6ms/step - loss: 0.3681 - accuracy: 0.9401 - val_loss: 0.3523 - val_accuracy: 0.9481\n",
      "Epoch 34/200\n",
      "1050/1050 [==============================] - 7s 6ms/step - loss: 0.3686 - accuracy: 0.9390 - val_loss: 0.3349 - val_accuracy: 0.9532\n",
      "Epoch 35/200\n",
      "1050/1050 [==============================] - 7s 6ms/step - loss: 0.3573 - accuracy: 0.9426 - val_loss: 0.3416 - val_accuracy: 0.9538\n",
      "Epoch 36/200\n",
      "1050/1050 [==============================] - 7s 6ms/step - loss: 0.3624 - accuracy: 0.9403 - val_loss: 0.3557 - val_accuracy: 0.9460\n",
      "Epoch 37/200\n",
      "1050/1050 [==============================] - 7s 6ms/step - loss: 0.3536 - accuracy: 0.9424 - val_loss: 0.3378 - val_accuracy: 0.9549\n",
      "Epoch 38/200\n",
      "1050/1050 [==============================] - 7s 6ms/step - loss: 0.3539 - accuracy: 0.9413 - val_loss: 0.3240 - val_accuracy: 0.9546\n",
      "Epoch 39/200\n",
      "1050/1050 [==============================] - 7s 6ms/step - loss: 0.3538 - accuracy: 0.9404 - val_loss: 0.3402 - val_accuracy: 0.9485\n",
      "Epoch 40/200\n",
      "1050/1050 [==============================] - 7s 6ms/step - loss: 0.3515 - accuracy: 0.9416 - val_loss: 0.3258 - val_accuracy: 0.9519\n",
      "Epoch 41/200\n",
      "1050/1050 [==============================] - 7s 7ms/step - loss: 0.3481 - accuracy: 0.9414 - val_loss: 0.3101 - val_accuracy: 0.9548\n",
      "Epoch 42/200\n",
      "1050/1050 [==============================] - 7s 6ms/step - loss: 0.3402 - accuracy: 0.9420 - val_loss: 0.3321 - val_accuracy: 0.9563\n",
      "Epoch 43/200\n",
      "1050/1050 [==============================] - 7s 6ms/step - loss: 0.3468 - accuracy: 0.9411 - val_loss: 0.3426 - val_accuracy: 0.9489\n",
      "Epoch 44/200\n",
      "1050/1050 [==============================] - 7s 7ms/step - loss: 0.3398 - accuracy: 0.9434 - val_loss: 0.3077 - val_accuracy: 0.9574\n",
      "Epoch 45/200\n",
      "1050/1050 [==============================] - 7s 7ms/step - loss: 0.3417 - accuracy: 0.9417 - val_loss: 0.3009 - val_accuracy: 0.9570\n",
      "Epoch 46/200\n",
      "1050/1050 [==============================] - 7s 7ms/step - loss: 0.3393 - accuracy: 0.9417 - val_loss: 0.3187 - val_accuracy: 0.9542\n",
      "Epoch 47/200\n",
      "1050/1050 [==============================] - 7s 6ms/step - loss: 0.3332 - accuracy: 0.9431 - val_loss: 0.3242 - val_accuracy: 0.9533\n",
      "Epoch 48/200\n",
      "1050/1050 [==============================] - 7s 6ms/step - loss: 0.3401 - accuracy: 0.9419 - val_loss: 0.3011 - val_accuracy: 0.9557\n",
      "Epoch 49/200\n",
      "1050/1050 [==============================] - 7s 6ms/step - loss: 0.3307 - accuracy: 0.9450 - val_loss: 0.3197 - val_accuracy: 0.9545\n",
      "Epoch 50/200\n",
      "1050/1050 [==============================] - 7s 7ms/step - loss: 0.3259 - accuracy: 0.9442 - val_loss: 0.3187 - val_accuracy: 0.9549\n",
      "Epoch 51/200\n",
      "1050/1050 [==============================] - 7s 7ms/step - loss: 0.3321 - accuracy: 0.9432 - val_loss: 0.3129 - val_accuracy: 0.9539\n",
      "Epoch 52/200\n",
      "1050/1050 [==============================] - 7s 7ms/step - loss: 0.3208 - accuracy: 0.9443 - val_loss: 0.3176 - val_accuracy: 0.9514\n",
      "Epoch 53/200\n",
      "1050/1050 [==============================] - 7s 7ms/step - loss: 0.3307 - accuracy: 0.9425 - val_loss: 0.3182 - val_accuracy: 0.9546\n",
      "Epoch 54/200\n",
      "1050/1050 [==============================] - 7s 7ms/step - loss: 0.3222 - accuracy: 0.9446 - val_loss: 0.3048 - val_accuracy: 0.9536\n",
      "Epoch 55/200\n",
      "1050/1050 [==============================] - 7s 6ms/step - loss: 0.3250 - accuracy: 0.9424 - val_loss: 0.3091 - val_accuracy: 0.9575\n",
      "Epoch 56/200\n",
      "1050/1050 [==============================] - 7s 6ms/step - loss: 0.3206 - accuracy: 0.9439 - val_loss: 0.3264 - val_accuracy: 0.9442\n",
      "Epoch 57/200\n",
      "1050/1050 [==============================] - 7s 7ms/step - loss: 0.3192 - accuracy: 0.9424 - val_loss: 0.3030 - val_accuracy: 0.9617\n",
      "Epoch 58/200\n",
      "1050/1050 [==============================] - 8s 8ms/step - loss: 0.3149 - accuracy: 0.9456 - val_loss: 0.3118 - val_accuracy: 0.9526\n",
      "Epoch 59/200\n",
      "1050/1050 [==============================] - 7s 7ms/step - loss: 0.3194 - accuracy: 0.9442 - val_loss: 0.2977 - val_accuracy: 0.9557\n",
      "Epoch 60/200\n",
      "1050/1050 [==============================] - 7s 6ms/step - loss: 0.3206 - accuracy: 0.9436 - val_loss: 0.3129 - val_accuracy: 0.9505\n",
      "Epoch 61/200\n",
      "1050/1050 [==============================] - 7s 6ms/step - loss: 0.3120 - accuracy: 0.9441 - val_loss: 0.3154 - val_accuracy: 0.9546\n",
      "Epoch 62/200\n",
      "1050/1050 [==============================] - 7s 7ms/step - loss: 0.3125 - accuracy: 0.9460 - val_loss: 0.2923 - val_accuracy: 0.9573\n",
      "Epoch 63/200\n",
      "1050/1050 [==============================] - 7s 7ms/step - loss: 0.3148 - accuracy: 0.9444 - val_loss: 0.3138 - val_accuracy: 0.9519\n",
      "Epoch 64/200\n",
      "1050/1050 [==============================] - 7s 6ms/step - loss: 0.3059 - accuracy: 0.9472 - val_loss: 0.2985 - val_accuracy: 0.9571\n",
      "Epoch 65/200\n",
      "1050/1050 [==============================] - 7s 6ms/step - loss: 0.3068 - accuracy: 0.9472 - val_loss: 0.2932 - val_accuracy: 0.9550\n",
      "Epoch 66/200\n",
      "1050/1050 [==============================] - 7s 6ms/step - loss: 0.3103 - accuracy: 0.9441 - val_loss: 0.3283 - val_accuracy: 0.9471\n",
      "Epoch 67/200\n",
      "1050/1050 [==============================] - 7s 6ms/step - loss: 0.3083 - accuracy: 0.9449 - val_loss: 0.2958 - val_accuracy: 0.9556\n",
      "Epoch 68/200\n",
      "1050/1050 [==============================] - 7s 6ms/step - loss: 0.3040 - accuracy: 0.9464 - val_loss: 0.2927 - val_accuracy: 0.9565\n",
      "Epoch 69/200\n",
      "1050/1050 [==============================] - 7s 7ms/step - loss: 0.3060 - accuracy: 0.9455 - val_loss: 0.2974 - val_accuracy: 0.9513\n",
      "Epoch 70/200\n",
      "1050/1050 [==============================] - 7s 7ms/step - loss: 0.3091 - accuracy: 0.9441 - val_loss: 0.3093 - val_accuracy: 0.9548\n",
      "Epoch 71/200\n",
      "1050/1050 [==============================] - 7s 7ms/step - loss: 0.3021 - accuracy: 0.9475 - val_loss: 0.3104 - val_accuracy: 0.9471\n",
      "Epoch 72/200\n",
      "1050/1050 [==============================] - 7s 6ms/step - loss: 0.3033 - accuracy: 0.9455 - val_loss: 0.3059 - val_accuracy: 0.9508\n",
      "Epoch 73/200\n",
      "1050/1050 [==============================] - 7s 6ms/step - loss: 0.3054 - accuracy: 0.9448 - val_loss: 0.3094 - val_accuracy: 0.9510\n",
      "Epoch 74/200\n",
      "1050/1050 [==============================] - 7s 6ms/step - loss: 0.3015 - accuracy: 0.9471 - val_loss: 0.3219 - val_accuracy: 0.9532\n",
      "Epoch 75/200\n",
      "1050/1050 [==============================] - 7s 6ms/step - loss: 0.3054 - accuracy: 0.9457 - val_loss: 0.3477 - val_accuracy: 0.9554\n",
      "Epoch 76/200\n",
      "1050/1050 [==============================] - 7s 6ms/step - loss: 0.3018 - accuracy: 0.9460 - val_loss: 0.2892 - val_accuracy: 0.9551\n",
      "Epoch 77/200\n",
      "1050/1050 [==============================] - 7s 6ms/step - loss: 0.2973 - accuracy: 0.9484 - val_loss: 0.2986 - val_accuracy: 0.9564\n",
      "Epoch 78/200\n",
      "1050/1050 [==============================] - 7s 7ms/step - loss: 0.3000 - accuracy: 0.9466 - val_loss: 0.2750 - val_accuracy: 0.9590\n",
      "Epoch 79/200\n",
      "1050/1050 [==============================] - 7s 7ms/step - loss: 0.2968 - accuracy: 0.9472 - val_loss: 0.3112 - val_accuracy: 0.9532\n",
      "Epoch 80/200\n",
      "1050/1050 [==============================] - 7s 7ms/step - loss: 0.3002 - accuracy: 0.9449 - val_loss: 0.3124 - val_accuracy: 0.9513\n",
      "Epoch 81/200\n",
      "1050/1050 [==============================] - 7s 6ms/step - loss: 0.2974 - accuracy: 0.9476 - val_loss: 0.2873 - val_accuracy: 0.9568\n",
      "Epoch 82/200\n",
      "1050/1050 [==============================] - 7s 6ms/step - loss: 0.2968 - accuracy: 0.9469 - val_loss: 0.2869 - val_accuracy: 0.9604\n",
      "Epoch 83/200\n",
      "1050/1050 [==============================] - 7s 6ms/step - loss: 0.2943 - accuracy: 0.9474 - val_loss: 0.2811 - val_accuracy: 0.9586\n",
      "Epoch 84/200\n",
      "1050/1050 [==============================] - 7s 6ms/step - loss: 0.2965 - accuracy: 0.9459 - val_loss: 0.2987 - val_accuracy: 0.9542\n",
      "Epoch 85/200\n",
      "1050/1050 [==============================] - 7s 6ms/step - loss: 0.2963 - accuracy: 0.9471 - val_loss: 0.2849 - val_accuracy: 0.9546\n",
      "Epoch 86/200\n",
      "1050/1050 [==============================] - 7s 7ms/step - loss: 0.2911 - accuracy: 0.9483 - val_loss: 0.2868 - val_accuracy: 0.9551\n",
      "Epoch 87/200\n",
      "1050/1050 [==============================] - 7s 6ms/step - loss: 0.2950 - accuracy: 0.9475 - val_loss: 0.3009 - val_accuracy: 0.9536\n",
      "Epoch 88/200\n",
      "1050/1050 [==============================] - 7s 6ms/step - loss: 0.2916 - accuracy: 0.9470 - val_loss: 0.2839 - val_accuracy: 0.9586\n",
      "Epoch 89/200\n",
      "1050/1050 [==============================] - 7s 6ms/step - loss: 0.2948 - accuracy: 0.9463 - val_loss: 0.3156 - val_accuracy: 0.9514\n",
      "Epoch 90/200\n",
      "1050/1050 [==============================] - 7s 7ms/step - loss: 0.2919 - accuracy: 0.9460 - val_loss: 0.3279 - val_accuracy: 0.9565\n",
      "Epoch 91/200\n",
      "1050/1050 [==============================] - 7s 6ms/step - loss: 0.2884 - accuracy: 0.9485 - val_loss: 0.3054 - val_accuracy: 0.9524\n",
      "Epoch 92/200\n",
      "1050/1050 [==============================] - 7s 6ms/step - loss: 0.2890 - accuracy: 0.9493 - val_loss: 0.3036 - val_accuracy: 0.9574\n",
      "Epoch 93/200\n",
      "1050/1050 [==============================] - 7s 6ms/step - loss: 0.2858 - accuracy: 0.9493 - val_loss: 0.2997 - val_accuracy: 0.9563\n",
      "Epoch 94/200\n",
      "1050/1050 [==============================] - 7s 6ms/step - loss: 0.2923 - accuracy: 0.9474 - val_loss: 0.2886 - val_accuracy: 0.9593\n",
      "Epoch 95/200\n",
      "1050/1050 [==============================] - 7s 7ms/step - loss: 0.2930 - accuracy: 0.9454 - val_loss: 0.2913 - val_accuracy: 0.9571\n",
      "Epoch 96/200\n",
      "1050/1050 [==============================] - 7s 6ms/step - loss: 0.2914 - accuracy: 0.9456 - val_loss: 0.2842 - val_accuracy: 0.9564\n",
      "Epoch 97/200\n",
      "1050/1050 [==============================] - 7s 6ms/step - loss: 0.2867 - accuracy: 0.9483 - val_loss: 0.3117 - val_accuracy: 0.9593\n",
      "Epoch 98/200\n",
      "1050/1050 [==============================] - 7s 7ms/step - loss: 0.2866 - accuracy: 0.9484 - val_loss: 0.2860 - val_accuracy: 0.9537\n"
     ]
    }
   ],
   "metadata": {}
  },
  {
   "cell_type": "markdown",
   "source": [
    "## Visualizing the Progress"
   ],
   "metadata": {}
  },
  {
   "cell_type": "code",
   "execution_count": 116,
   "source": [
    "plt.plot(pd.DataFrame(history.history))\n",
    "plt.show()"
   ],
   "outputs": [
    {
     "output_type": "display_data",
     "data": {
      "image/png": "[encoded data removed]",
      "text/plain": [
       "<Figure size 432x288 with 1 Axes>"
      ]
     },
     "metadata": {
      "needs_background": "light"
     }
    }
   ],
   "metadata": {}
  },
  {
   "cell_type": "markdown",
   "source": [
    "### Model Training with Full Dataset \n",
    "In this part I will train the model with the full dataset. This time I will use the discovered hyperparameters from previous section."
   ],
   "metadata": {}
  },
  {
   "cell_type": "code",
   "execution_count": 112,
   "source": [
    "\n",
    "# Model building\n",
    "model_full = keras.models.Sequential()\n",
    "\n",
    "model_full.add(keras.layers.Flatten(input_shape=input_shape_notFlattened))\n",
    "model_full.add(keras.layers.BatchNormalization())\n",
    "model_full.add(keras.layers.Dense(500, activation=activation_fn, kernel_initializer=initializer, kernel_regularizer= regularizer)) ## add  kernel_regularizer=keras.regularizers.l2(0.01)) ???\n",
    "model_full.add(keras.layers.BatchNormalization())\n",
    "model_full.add(keras.layers.Dense(300, activation=activation_fn, kernel_initializer=initializer, kernel_regularizer= regularizer))\n",
    "model_full.add(keras.layers.BatchNormalization())\n",
    "model_full.add(keras.layers.Dense(300, activation=activation_fn, kernel_initializer=initializer, kernel_regularizer= regularizer))\n",
    "model_full.add(keras.layers.BatchNormalization())\n",
    "model_full.add(keras.layers.Dense(300, activation=activation_fn, kernel_initializer=initializer, kernel_regularizer= regularizer))\n",
    "model_full.add(keras.layers.BatchNormalization())\n",
    "model_full.add(keras.layers.Dense(300, activation=activation_fn, kernel_initializer=initializer, kernel_regularizer= regularizer))\n",
    "model_full.add(keras.layers.BatchNormalization())\n",
    "model_full.add(keras.layers.Dense(300, activation=activation_fn, kernel_initializer=initializer, kernel_regularizer= regularizer))\n",
    "\n",
    "model_full.add(keras.layers.Dense(10, activation=\"softmax\", kernel_initializer=\"glorot_uniform\"))\n",
    "\n",
    "\n",
    "optimizer = keras.optimizers.SGD(learning_rate=learning_rt)\n",
    "\n",
    "\n",
    "model_full.compile(loss='sparse_categorical_crossentropy', optimizer=optimizer, metrics=['accuracy'] )"
   ],
   "outputs": [],
   "metadata": {}
  },
  {
   "cell_type": "code",
   "execution_count": 113,
   "source": [
    "model_full.summary()"
   ],
   "outputs": [
    {
     "output_type": "stream",
     "name": "stdout",
     "text": [
      "Model: \"sequential_6\"\n",
      "_________________________________________________________________\n",
      "Layer (type)                 Output Shape              Param #   \n",
      "=================================================================\n",
      "flatten_6 (Flatten)          (None, 784)               0         \n",
      "_________________________________________________________________\n",
      "batch_normalization_13 (Batc (None, 784)               3136      \n",
      "_________________________________________________________________\n",
      "dense_42 (Dense)             (None, 500)               392500    \n",
      "_________________________________________________________________\n",
      "batch_normalization_14 (Batc (None, 500)               2000      \n",
      "_________________________________________________________________\n",
      "dense_43 (Dense)             (None, 300)               150300    \n",
      "_________________________________________________________________\n",
      "batch_normalization_15 (Batc (None, 300)               1200      \n",
      "_________________________________________________________________\n",
      "dense_44 (Dense)             (None, 300)               90300     \n",
      "_________________________________________________________________\n",
      "batch_normalization_16 (Batc (None, 300)               1200      \n",
      "_________________________________________________________________\n",
      "dense_45 (Dense)             (None, 300)               90300     \n",
      "_________________________________________________________________\n",
      "batch_normalization_17 (Batc (None, 300)               1200      \n",
      "_________________________________________________________________\n",
      "dense_46 (Dense)             (None, 300)               90300     \n",
      "_________________________________________________________________\n",
      "batch_normalization_18 (Batc (None, 300)               1200      \n",
      "_________________________________________________________________\n",
      "dense_47 (Dense)             (None, 300)               90300     \n",
      "_________________________________________________________________\n",
      "dense_48 (Dense)             (None, 10)                3010      \n",
      "=================================================================\n",
      "Total params: 916,946\n",
      "Trainable params: 911,978\n",
      "Non-trainable params: 4,968\n",
      "_________________________________________________________________\n"
     ]
    }
   ],
   "metadata": {}
  },
  {
   "cell_type": "code",
   "execution_count": 114,
   "source": [
    "# creating a new log dir for tensorboard\n",
    "tensorboard_cb_f = keras.callbacks.TensorBoard(get_run_logdir())\n",
    "checkpoint_cb_f = keras.callbacks.ModelCheckpoint(\"my_modell_full.h5\", save_best_only=False, save_weights_only=False)"
   ],
   "outputs": [],
   "metadata": {}
  },
  {
   "cell_type": "code",
   "execution_count": 115,
   "source": [
    "# preparing data based on our beautifull trained data pipeline\n",
    "X_prep_all = pipeline.transform(X)"
   ],
   "outputs": [],
   "metadata": {}
  },
  {
   "cell_type": "code",
   "execution_count": 117,
   "source": [
    "# Train the model again pleeeeease with all you got .... especially the new transformed data matrix X \n",
    "history_full = model_full.fit(X_prep_all, y, epochs=100, callbacks=[tensorboard_cb_f, checkpoint_cb_f])"
   ],
   "outputs": [
    {
     "output_type": "stream",
     "name": "stdout",
     "text": [
      "Epoch 1/100\n",
      "WARNING:tensorflow:Model was constructed with shape (None, 28, 28) for input Tensor(\"flatten_6_input:0\", shape=(None, 28, 28), dtype=float32), but it was called on an input with incompatible shape (None, 784).\n",
      "WARNING:tensorflow:Model was constructed with shape (None, 28, 28) for input Tensor(\"flatten_6_input:0\", shape=(None, 28, 28), dtype=float32), but it was called on an input with incompatible shape (None, 784).\n",
      "   2/1313 [..............................] - ETA: 9:39 - loss: 43.0033 - accuracy: 0.1094WARNING:tensorflow:Callbacks method `on_train_batch_end` is slow compared to the batch time (batch time: 0.0065s vs `on_train_batch_end` time: 0.8775s). Check your callbacks.\n",
      "1313/1313 [==============================] - 9s 7ms/step - loss: 40.0919 - accuracy: 0.6068\n",
      "Epoch 2/100\n",
      "1313/1313 [==============================] - 8s 6ms/step - loss: 37.4432 - accuracy: 0.8290\n",
      "Epoch 3/100\n",
      "1313/1313 [==============================] - 8s 6ms/step - loss: 35.4226 - accuracy: 0.8727\n",
      "Epoch 4/100\n",
      "1313/1313 [==============================] - 8s 6ms/step - loss: 33.5667 - accuracy: 0.8924\n",
      "Epoch 5/100\n",
      "1313/1313 [==============================] - 8s 6ms/step - loss: 31.8310 - accuracy: 0.9057\n",
      "Epoch 6/100\n",
      "1313/1313 [==============================] - 8s 6ms/step - loss: 30.1897 - accuracy: 0.9142\n",
      "Epoch 7/100\n",
      "1313/1313 [==============================] - 8s 6ms/step - loss: 28.6389 - accuracy: 0.9218\n",
      "Epoch 8/100\n",
      "1313/1313 [==============================] - 8s 6ms/step - loss: 27.1702 - accuracy: 0.9269\n",
      "Epoch 9/100\n",
      "1313/1313 [==============================] - 8s 6ms/step - loss: 25.7747 - accuracy: 0.9335\n",
      "Epoch 10/100\n",
      "1313/1313 [==============================] - 8s 6ms/step - loss: 24.4575 - accuracy: 0.9374\n",
      "Epoch 11/100\n",
      "1313/1313 [==============================] - 8s 6ms/step - loss: 23.2060 - accuracy: 0.9413\n",
      "Epoch 12/100\n",
      "1313/1313 [==============================] - 8s 6ms/step - loss: 22.0215 - accuracy: 0.9440\n",
      "Epoch 13/100\n",
      "1313/1313 [==============================] - 8s 6ms/step - loss: 20.8879 - accuracy: 0.9500\n",
      "Epoch 14/100\n",
      "1313/1313 [==============================] - 8s 6ms/step - loss: 19.8256 - accuracy: 0.9514\n",
      "Epoch 15/100\n",
      "1313/1313 [==============================] - 8s 6ms/step - loss: 18.8126 - accuracy: 0.9540\n",
      "Epoch 16/100\n",
      "1313/1313 [==============================] - 8s 6ms/step - loss: 17.8527 - accuracy: 0.9566\n",
      "Epoch 17/100\n",
      "1313/1313 [==============================] - 8s 6ms/step - loss: 16.9417 - accuracy: 0.9597\n",
      "Epoch 18/100\n",
      "1313/1313 [==============================] - 8s 6ms/step - loss: 16.0755 - accuracy: 0.9621\n",
      "Epoch 19/100\n",
      "1313/1313 [==============================] - 8s 6ms/step - loss: 15.2573 - accuracy: 0.9634\n",
      "Epoch 20/100\n",
      "1313/1313 [==============================] - 8s 6ms/step - loss: 14.4802 - accuracy: 0.9649\n",
      "Epoch 21/100\n",
      "1313/1313 [==============================] - 8s 6ms/step - loss: 13.7410 - accuracy: 0.9670\n",
      "Epoch 22/100\n",
      "1313/1313 [==============================] - 8s 6ms/step - loss: 13.0400 - accuracy: 0.9691\n",
      "Epoch 23/100\n",
      "1313/1313 [==============================] - 8s 6ms/step - loss: 12.3744 - accuracy: 0.9722\n",
      "Epoch 24/100\n",
      "1313/1313 [==============================] - 8s 6ms/step - loss: 11.7440 - accuracy: 0.9731\n",
      "Epoch 25/100\n",
      "1313/1313 [==============================] - 8s 6ms/step - loss: 11.1480 - accuracy: 0.9732\n",
      "Epoch 26/100\n",
      "1313/1313 [==============================] - 8s 6ms/step - loss: 10.5786 - accuracy: 0.9754\n",
      "Epoch 27/100\n",
      "1313/1313 [==============================] - 8s 6ms/step - loss: 10.0398 - accuracy: 0.9764\n",
      "Epoch 28/100\n",
      "1313/1313 [==============================] - 8s 6ms/step - loss: 9.5304 - accuracy: 0.9760\n",
      "Epoch 29/100\n",
      "1313/1313 [==============================] - 8s 6ms/step - loss: 9.0454 - accuracy: 0.9789\n",
      "Epoch 30/100\n",
      "1313/1313 [==============================] - 8s 6ms/step - loss: 8.5836 - accuracy: 0.9806\n",
      "Epoch 31/100\n",
      "1313/1313 [==============================] - 8s 6ms/step - loss: 8.1486 - accuracy: 0.9803\n",
      "Epoch 32/100\n",
      "1313/1313 [==============================] - 8s 6ms/step - loss: 7.7342 - accuracy: 0.9817\n",
      "Epoch 33/100\n",
      "1313/1313 [==============================] - 8s 6ms/step - loss: 7.3389 - accuracy: 0.9839\n",
      "Epoch 34/100\n",
      "1313/1313 [==============================] - 8s 6ms/step - loss: 6.9659 - accuracy: 0.9847\n",
      "Epoch 35/100\n",
      "1313/1313 [==============================] - 8s 6ms/step - loss: 6.6112 - accuracy: 0.9853\n",
      "Epoch 36/100\n",
      "1313/1313 [==============================] - 8s 6ms/step - loss: 6.2764 - accuracy: 0.9864\n",
      "Epoch 37/100\n",
      "1313/1313 [==============================] - 8s 6ms/step - loss: 5.9564 - accuracy: 0.9870\n",
      "Epoch 38/100\n",
      "1313/1313 [==============================] - 8s 6ms/step - loss: 5.6549 - accuracy: 0.9873\n",
      "Epoch 39/100\n",
      "1313/1313 [==============================] - 8s 6ms/step - loss: 5.3675 - accuracy: 0.9882\n",
      "Epoch 40/100\n",
      "1313/1313 [==============================] - 8s 6ms/step - loss: 5.0944 - accuracy: 0.9901\n",
      "Epoch 41/100\n",
      "1313/1313 [==============================] - 8s 6ms/step - loss: 4.8375 - accuracy: 0.9889\n",
      "Epoch 42/100\n",
      "1313/1313 [==============================] - 8s 6ms/step - loss: 4.5905 - accuracy: 0.9903\n",
      "Epoch 43/100\n",
      "1313/1313 [==============================] - 8s 6ms/step - loss: 4.3581 - accuracy: 0.9912\n",
      "Epoch 44/100\n",
      "1313/1313 [==============================] - 8s 6ms/step - loss: 4.1366 - accuracy: 0.9921\n",
      "Epoch 45/100\n",
      "1313/1313 [==============================] - 8s 6ms/step - loss: 3.9280 - accuracy: 0.9915\n",
      "Epoch 46/100\n",
      "1313/1313 [==============================] - 8s 6ms/step - loss: 3.7314 - accuracy: 0.9917\n",
      "Epoch 47/100\n",
      "1313/1313 [==============================] - 8s 6ms/step - loss: 3.5421 - accuracy: 0.9922\n",
      "Epoch 48/100\n",
      "1313/1313 [==============================] - 8s 6ms/step - loss: 3.3631 - accuracy: 0.9926\n",
      "Epoch 49/100\n",
      "1313/1313 [==============================] - 8s 6ms/step - loss: 3.1929 - accuracy: 0.9931\n",
      "Epoch 50/100\n",
      "1313/1313 [==============================] - 8s 6ms/step - loss: 3.0311 - accuracy: 0.9935\n",
      "Epoch 51/100\n",
      "1313/1313 [==============================] - 8s 6ms/step - loss: 2.8785 - accuracy: 0.9945\n",
      "Epoch 52/100\n",
      "1313/1313 [==============================] - 8s 6ms/step - loss: 2.7337 - accuracy: 0.9940\n",
      "Epoch 53/100\n",
      "1313/1313 [==============================] - 8s 6ms/step - loss: 2.5956 - accuracy: 0.9943\n",
      "Epoch 54/100\n",
      "1313/1313 [==============================] - 8s 6ms/step - loss: 2.4638 - accuracy: 0.9950\n",
      "Epoch 55/100\n",
      "1313/1313 [==============================] - 8s 6ms/step - loss: 2.3411 - accuracy: 0.9946\n",
      "Epoch 56/100\n",
      "1313/1313 [==============================] - 8s 6ms/step - loss: 2.2244 - accuracy: 0.9948\n",
      "Epoch 57/100\n",
      "1313/1313 [==============================] - 8s 6ms/step - loss: 2.1128 - accuracy: 0.9952\n",
      "Epoch 58/100\n",
      "1313/1313 [==============================] - 8s 6ms/step - loss: 2.0059 - accuracy: 0.9955\n",
      "Epoch 59/100\n",
      "1313/1313 [==============================] - 8s 6ms/step - loss: 1.9054 - accuracy: 0.9959\n",
      "Epoch 60/100\n",
      "1313/1313 [==============================] - 8s 6ms/step - loss: 1.8106 - accuracy: 0.9958\n",
      "Epoch 61/100\n",
      "1313/1313 [==============================] - 8s 6ms/step - loss: 1.7207 - accuracy: 0.9957\n",
      "Epoch 62/100\n",
      "1313/1313 [==============================] - 8s 6ms/step - loss: 1.6340 - accuracy: 0.9960\n",
      "Epoch 63/100\n",
      "1313/1313 [==============================] - 8s 6ms/step - loss: 1.5524 - accuracy: 0.9965\n",
      "Epoch 64/100\n",
      "1313/1313 [==============================] - 8s 6ms/step - loss: 1.4747 - accuracy: 0.9967\n",
      "Epoch 65/100\n",
      "1313/1313 [==============================] - 8s 6ms/step - loss: 1.4035 - accuracy: 0.9962\n",
      "Epoch 66/100\n",
      "1313/1313 [==============================] - 8s 6ms/step - loss: 1.3334 - accuracy: 0.9961\n",
      "Epoch 67/100\n",
      "1313/1313 [==============================] - 8s 6ms/step - loss: 1.2677 - accuracy: 0.9964\n",
      "Epoch 68/100\n",
      "1313/1313 [==============================] - 8s 6ms/step - loss: 1.2054 - accuracy: 0.9962\n",
      "Epoch 69/100\n",
      "1313/1313 [==============================] - 8s 6ms/step - loss: 1.1437 - accuracy: 0.9975\n",
      "Epoch 70/100\n",
      "1313/1313 [==============================] - 8s 6ms/step - loss: 1.0896 - accuracy: 0.9963\n",
      "Epoch 71/100\n",
      "1313/1313 [==============================] - 8s 6ms/step - loss: 1.0372 - accuracy: 0.9962\n",
      "Epoch 72/100\n",
      "1313/1313 [==============================] - 8s 6ms/step - loss: 0.9863 - accuracy: 0.9964\n",
      "Epoch 73/100\n",
      "1313/1313 [==============================] - 8s 6ms/step - loss: 0.9381 - accuracy: 0.9965\n",
      "Epoch 74/100\n",
      "1313/1313 [==============================] - 7s 6ms/step - loss: 0.8945 - accuracy: 0.9957\n",
      "Epoch 75/100\n",
      "1313/1313 [==============================] - 8s 6ms/step - loss: 0.8498 - accuracy: 0.9967\n",
      "Epoch 76/100\n",
      "1313/1313 [==============================] - 7s 6ms/step - loss: 0.8096 - accuracy: 0.9965\n",
      "Epoch 77/100\n",
      "1313/1313 [==============================] - 8s 6ms/step - loss: 0.7713 - accuracy: 0.9962\n",
      "Epoch 78/100\n",
      "1313/1313 [==============================] - 7s 6ms/step - loss: 0.7333 - accuracy: 0.9970\n",
      "Epoch 79/100\n",
      "1313/1313 [==============================] - 8s 6ms/step - loss: 0.6981 - accuracy: 0.9970\n",
      "Epoch 80/100\n",
      "1313/1313 [==============================] - 7s 6ms/step - loss: 0.6672 - accuracy: 0.9959\n",
      "Epoch 81/100\n",
      "1313/1313 [==============================] - 8s 6ms/step - loss: 0.6354 - accuracy: 0.9965\n",
      "Epoch 82/100\n",
      "1313/1313 [==============================] - 8s 6ms/step - loss: 0.6070 - accuracy: 0.9959\n",
      "Epoch 83/100\n",
      "1313/1313 [==============================] - 8s 6ms/step - loss: 0.5787 - accuracy: 0.9960\n",
      "Epoch 84/100\n",
      "1313/1313 [==============================] - 8s 6ms/step - loss: 0.5528 - accuracy: 0.9961\n",
      "Epoch 85/100\n",
      "1313/1313 [==============================] - 8s 6ms/step - loss: 0.5294 - accuracy: 0.9950\n",
      "Epoch 86/100\n",
      "1313/1313 [==============================] - 8s 6ms/step - loss: 0.5062 - accuracy: 0.9954\n",
      "Epoch 87/100\n",
      "1313/1313 [==============================] - 8s 6ms/step - loss: 0.4814 - accuracy: 0.9961\n",
      "Epoch 88/100\n",
      "1313/1313 [==============================] - 8s 6ms/step - loss: 0.4603 - accuracy: 0.9961\n",
      "Epoch 89/100\n",
      "1313/1313 [==============================] - 8s 6ms/step - loss: 0.4405 - accuracy: 0.9956\n",
      "Epoch 90/100\n",
      "1313/1313 [==============================] - 8s 6ms/step - loss: 0.4214 - accuracy: 0.9955\n",
      "Epoch 91/100\n",
      "1313/1313 [==============================] - 8s 6ms/step - loss: 0.4013 - accuracy: 0.9964\n",
      "Epoch 92/100\n",
      "1313/1313 [==============================] - 8s 6ms/step - loss: 0.3859 - accuracy: 0.9955\n",
      "Epoch 93/100\n",
      "1313/1313 [==============================] - 8s 6ms/step - loss: 0.3705 - accuracy: 0.9954\n",
      "Epoch 94/100\n",
      "1313/1313 [==============================] - 8s 6ms/step - loss: 0.3574 - accuracy: 0.9946\n",
      "Epoch 95/100\n",
      "1313/1313 [==============================] - 8s 6ms/step - loss: 0.3419 - accuracy: 0.9948\n",
      "Epoch 96/100\n",
      "1313/1313 [==============================] - 8s 6ms/step - loss: 0.3258 - accuracy: 0.9961\n",
      "Epoch 97/100\n",
      "1313/1313 [==============================] - 8s 6ms/step - loss: 0.3133 - accuracy: 0.9951\n",
      "Epoch 98/100\n",
      "1313/1313 [==============================] - 8s 6ms/step - loss: 0.3011 - accuracy: 0.9955\n",
      "Epoch 99/100\n",
      "1313/1313 [==============================] - 8s 6ms/step - loss: 0.2915 - accuracy: 0.9948\n",
      "Epoch 100/100\n",
      "1313/1313 [==============================] - 8s 6ms/step - loss: 0.2795 - accuracy: 0.9949\n"
     ]
    }
   ],
   "metadata": {}
  },
  {
   "cell_type": "code",
   "execution_count": 118,
   "source": [
    "plt.plot(pd.DataFrame(history_full.history))\n",
    "plt.show()"
   ],
   "outputs": [
    {
     "output_type": "display_data",
     "data": {
      "image/png": "[encoded data removed]",
      "text/plain": [
       "<Figure size 432x288 with 1 Axes>"
      ]
     },
     "metadata": {
      "needs_background": "light"
     }
    }
   ],
   "metadata": {}
  },
  {
   "cell_type": "markdown",
   "source": [
    "# Image Prediction of Unknown Data (Test Data)"
   ],
   "metadata": {}
  },
  {
   "cell_type": "markdown",
   "source": [
    "## Peparing Test Data\r\n",
    "The test data for the competition needs to be prepared as well as did with the training data set. Therefore the trained pipeline (trained only on the training dataset) will be used."
   ],
   "metadata": {}
  },
  {
   "cell_type": "code",
   "execution_count": 119,
   "source": [
    "X_test_prep = pipeline.transform(X_test)"
   ],
   "outputs": [],
   "metadata": {}
  },
  {
   "cell_type": "code",
   "execution_count": 120,
   "source": [
    "X_test_prep"
   ],
   "outputs": [
    {
     "output_type": "execute_result",
     "data": {
      "text/plain": [
       "array([[0., 0., 0., ..., 0., 0., 0.],\n",
       "       [0., 0., 0., ..., 0., 0., 0.],\n",
       "       [0., 0., 0., ..., 0., 0., 0.],\n",
       "       ...,\n",
       "       [0., 0., 0., ..., 0., 0., 0.],\n",
       "       [0., 0., 0., ..., 0., 0., 0.],\n",
       "       [0., 0., 0., ..., 0., 0., 0.]])"
      ]
     },
     "metadata": {},
     "execution_count": 120
    }
   ],
   "metadata": {}
  },
  {
   "cell_type": "markdown",
   "source": [
    "## Creating Competition File"
   ],
   "metadata": {}
  },
  {
   "cell_type": "code",
   "execution_count": 121,
   "source": [
    "mnist_competition_file = pd.DataFrame(columns=['ImageId','Label'])"
   ],
   "outputs": [],
   "metadata": {}
  },
  {
   "cell_type": "markdown",
   "source": [
    "## Prediction of Testdata"
   ],
   "metadata": {}
  },
  {
   "cell_type": "code",
   "execution_count": 122,
   "source": [
    "plt.imshow(X_test_prep[43].reshape(28,28), cmap='Greys')"
   ],
   "outputs": [
    {
     "output_type": "execute_result",
     "data": {
      "text/plain": [
       "<matplotlib.image.AxesImage at 0x2be15b7ca90>"
      ]
     },
     "metadata": {},
     "execution_count": 122
    },
    {
     "output_type": "display_data",
     "data": {
      "image/png": "[encoded data removed]",
      "text/plain": [
       "<Figure size 432x288 with 1 Axes>"
      ]
     },
     "metadata": {
      "needs_background": "light"
     }
    }
   ],
   "metadata": {
    "scrolled": true
   }
  },
  {
   "cell_type": "code",
   "execution_count": 123,
   "source": [
    "print(\"Propability of all lables for given pixels: \", model_full.predict(X_test_prep[43].reshape(1,-1)))"
   ],
   "outputs": [
    {
     "output_type": "stream",
     "name": "stdout",
     "text": [
      "WARNING:tensorflow:Model was constructed with shape (None, 28, 28) for input Tensor(\"flatten_6_input:0\", shape=(None, 28, 28), dtype=float32), but it was called on an input with incompatible shape (None, 784).\n",
      "Propability of all lables for given pixels:  [[3.8676979e-05 2.8920460e-05 4.2562166e-05 2.6667052e-05 2.5978990e-04\n",
      "  4.2574062e-05 4.1488562e-05 6.3997300e-05 9.2300172e-05 9.9936301e-01]]\n"
     ]
    }
   ],
   "metadata": {}
  },
  {
   "cell_type": "code",
   "execution_count": 124,
   "source": [
    "print(\"Predicted Digit: \",np.argmax(model_full.predict(X_test_prep[43].reshape(1,-1))))"
   ],
   "outputs": [
    {
     "output_type": "stream",
     "name": "stdout",
     "text": [
      "Predicted Digit:  9\n"
     ]
    }
   ],
   "metadata": {}
  },
  {
   "cell_type": "code",
   "execution_count": 125,
   "source": [
    "predictions = model_full.predict(X_test_prep)"
   ],
   "outputs": [
    {
     "output_type": "stream",
     "name": "stdout",
     "text": [
      "WARNING:tensorflow:Model was constructed with shape (None, 28, 28) for input Tensor(\"flatten_6_input:0\", shape=(None, 28, 28), dtype=float32), but it was called on an input with incompatible shape (32, 784).\n"
     ]
    }
   ],
   "metadata": {}
  },
  {
   "cell_type": "code",
   "execution_count": 126,
   "source": [
    "i = 0\n",
    "for row in X_test_prep:\n",
    "    index = i + 1\n",
    "    predicted_label = pd.Series(np.argmax(predictions, axis=1))[i]\n",
    "\n",
    "    mnist_competition_file = mnist_competition_file.append({'ImageId': index, 'Label': predicted_label}, ignore_index = True )\n",
    "    i = i + 1\n",
    "    pass"
   ],
   "outputs": [],
   "metadata": {}
  },
  {
   "cell_type": "code",
   "execution_count": 127,
   "source": [
    "mnist_competition_file"
   ],
   "outputs": [
    {
     "output_type": "execute_result",
     "data": {
      "text/html": [
       "<div>\n",
       "<style scoped>\n",
       "    .dataframe tbody tr th:only-of-type {\n",
       "        vertical-align: middle;\n",
       "    }\n",
       "\n",
       "    .dataframe tbody tr th {\n",
       "        vertical-align: top;\n",
       "    }\n",
       "\n",
       "    .dataframe thead th {\n",
       "        text-align: right;\n",
       "    }\n",
       "</style>\n",
       "<table border=\"1\" class=\"dataframe\">\n",
       "  <thead>\n",
       "    <tr style=\"text-align: right;\">\n",
       "      <th></th>\n",
       "      <th>ImageId</th>\n",
       "      <th>Label</th>\n",
       "    </tr>\n",
       "  </thead>\n",
       "  <tbody>\n",
       "    <tr>\n",
       "      <th>0</th>\n",
       "      <td>1</td>\n",
       "      <td>2</td>\n",
       "    </tr>\n",
       "    <tr>\n",
       "      <th>1</th>\n",
       "      <td>2</td>\n",
       "      <td>0</td>\n",
       "    </tr>\n",
       "    <tr>\n",
       "      <th>2</th>\n",
       "      <td>3</td>\n",
       "      <td>9</td>\n",
       "    </tr>\n",
       "    <tr>\n",
       "      <th>3</th>\n",
       "      <td>4</td>\n",
       "      <td>9</td>\n",
       "    </tr>\n",
       "    <tr>\n",
       "      <th>4</th>\n",
       "      <td>5</td>\n",
       "      <td>3</td>\n",
       "    </tr>\n",
       "    <tr>\n",
       "      <th>...</th>\n",
       "      <td>...</td>\n",
       "      <td>...</td>\n",
       "    </tr>\n",
       "    <tr>\n",
       "      <th>27995</th>\n",
       "      <td>27996</td>\n",
       "      <td>9</td>\n",
       "    </tr>\n",
       "    <tr>\n",
       "      <th>27996</th>\n",
       "      <td>27997</td>\n",
       "      <td>7</td>\n",
       "    </tr>\n",
       "    <tr>\n",
       "      <th>27997</th>\n",
       "      <td>27998</td>\n",
       "      <td>3</td>\n",
       "    </tr>\n",
       "    <tr>\n",
       "      <th>27998</th>\n",
       "      <td>27999</td>\n",
       "      <td>9</td>\n",
       "    </tr>\n",
       "    <tr>\n",
       "      <th>27999</th>\n",
       "      <td>28000</td>\n",
       "      <td>2</td>\n",
       "    </tr>\n",
       "  </tbody>\n",
       "</table>\n",
       "<p>28000 rows × 2 columns</p>\n",
       "</div>"
      ],
      "text/plain": [
       "      ImageId Label\n",
       "0           1     2\n",
       "1           2     0\n",
       "2           3     9\n",
       "3           4     9\n",
       "4           5     3\n",
       "...       ...   ...\n",
       "27995   27996     9\n",
       "27996   27997     7\n",
       "27997   27998     3\n",
       "27998   27999     9\n",
       "27999   28000     2\n",
       "\n",
       "[28000 rows x 2 columns]"
      ]
     },
     "metadata": {},
     "execution_count": 127
    }
   ],
   "metadata": {}
  },
  {
   "cell_type": "code",
   "execution_count": 128,
   "source": [
    "mnist_competition_file.ImageId = mnist_competition_file.ImageId.astype(int)\n",
    "mnist_competition_file.Label = mnist_competition_file.Label.astype(int)"
   ],
   "outputs": [],
   "metadata": {}
  },
  {
   "cell_type": "code",
   "execution_count": 129,
   "source": [
    "mnist_competition_file.to_csv('mnist_submission.csv', index=False)"
   ],
   "outputs": [],
   "metadata": {}
  },
  {
   "cell_type": "code",
   "execution_count": null,
   "source": [],
   "outputs": [],
   "metadata": {}
  }
 ],
 "metadata": {
  "interpreter": {
   "hash": "2b49f70aa2f17b03439dc8f4bbaf601f728142d0d0d774f4bbd10ea7a16b86ea"
  },
  "kernelspec": {
   "name": "python3",
   "display_name": "Python 3.8.10 64-bit ('wingpuflake_keras': conda)"
  },
  "language_info": {
   "codemirror_mode": {
    "name": "ipython",
    "version": 3
   },
   "file_extension": ".py",
   "mimetype": "text/x-python",
   "name": "python",
   "nbconvert_exporter": "python",
   "pygments_lexer": "ipython3",
   "version": "3.8.10"
  }
 },
 "nbformat": 4,
 "nbformat_minor": 5
}