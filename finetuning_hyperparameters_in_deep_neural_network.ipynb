{
 "cells": [
  {
   "cell_type": "code",
   "execution_count": 20,
   "source": [
    "import numpy as np # linear algebra\n",
    "import pandas as pd # data processing, CSV file I/O (e.g. pd.read_csv)\n",
    "import matplotlib.pyplot as plt\n",
    "#import seaborn as sn\n",
    "from sklearn.model_selection import train_test_split\n",
    "\n",
    "from random import seed\n",
    "seed(1)\n",
    "seed = 43\n",
    "\n",
    "import tensorflow as tf\n",
    "from tensorflow import keras\n",
    "print(\"Tensorflow Version: \", tf.__version__)\n",
    "print(\"Keras Version: \",keras.__version__)\n",
    "\n",
    "\n",
    "kaggle = 0 # Kaggle path active = 1\n",
    "\n",
    "# change your local path here\n",
    "if kaggle == 1 :\n",
    "    MNIST_PATH= '../input/digit-recognizer'\n",
    "else:\n",
    "    MNIST_PATH= '../Digit_Recognition_with_a_Deep_Neural_Network/data/input/digit-recognizer'\n",
    "\n",
    "\n",
    "\n",
    "import os\n",
    "for dirname, _, filenames in os.walk(MNIST_PATH): \n",
    "    for filename in filenames:\n",
    "        print(os.path.join(dirname, filename))\n",
    "        "
   ],
   "outputs": [
    {
     "output_type": "stream",
     "name": "stdout",
     "text": [
      "Tensorflow Version:  2.3.0\n",
      "Keras Version:  2.4.0\n",
      "../Digit_Recognition_with_a_Deep_Neural_Network/data/input/digit-recognizer\\keras_reg_160_10_002.sav\n",
      "../Digit_Recognition_with_a_Deep_Neural_Network/data/input/digit-recognizer\\keras_reg_jl_160_10_002.sav\n",
      "../Digit_Recognition_with_a_Deep_Neural_Network/data/input/digit-recognizer\\sample_submission.csv\n",
      "../Digit_Recognition_with_a_Deep_Neural_Network/data/input/digit-recognizer\\test.csv\n",
      "../Digit_Recognition_with_a_Deep_Neural_Network/data/input/digit-recognizer\\train.csv\n"
     ]
    }
   ],
   "metadata": {}
  },
  {
   "cell_type": "markdown",
   "source": [
    "# Introduction - MNIST Training Competition\n",
    "This notebook is a fork of my previous developed notebook for digit recognition. Therefore you will find some parts that look common the the notebook <a href=\"https://www.kaggle.com/skiplik/digit-recognition-with-a-deep-neural-network\">Digit Recognition with a Deep Neural Network</a> and some parts that are completely different.\n",
    "\n",
    "With this I want to take a deeper look in the parts of finetuning hyperparameters based on the following parts:\n",
    "- Dwindling / Exploding Gradients\n",
    "- Optimizers\n",
    "- Regulations \n",
    "\n",
    "Link to the data topic: https://www.kaggle.com/c/digit-recognizer/data\n",
    "\n",
    "As in the previous notebooks I will use Tensorflow with Keras. I already mentioned in other notebooks, I will skip some explanations about the data set here. Moreover I will use the already discovered knowledge about the data and transform/prepare the data rightaway.\n",
    "\n",
    "If you are interested in some more clearly analysis of the dataset take a look into my other notebooks about the MNIS-dataset:\n",
    "- Digit Recognition with a Deep Neural Network: https://www.kaggle.com/skiplik/digit-recognition-with-a-deep-neural-network\n",
    "- Another MNIST Try: https://www.kaggle.com/skiplik/another-mnist-try\n",
    "- First NN by Detecting Handwritten Characters: https://www.kaggle.com/skiplik/first-nn-by-detecting-handwritten-characters\n",
    "...\n"
   ],
   "metadata": {}
  },
  {
   "cell_type": "markdown",
   "source": [
    "# Get Data"
   ],
   "metadata": {}
  },
  {
   "cell_type": "code",
   "execution_count": 21,
   "source": [
    "# Data path and file\n",
    "CSV_FILE_TRAIN='train.csv'\n",
    "CSV_FILE_TEST='test.csv'\n",
    "\n",
    "def load_mnist_data(minist_path, csv_file):\n",
    "    csv_path = os.path.join(minist_path, csv_file)\n",
    "    return pd.read_csv(csv_path)\n",
    "\n",
    "def load_mnist_data_manuel(minist_path, csv_file):\n",
    "    csv_path = os.path.join(minist_path, csv_file)\n",
    "    csv_file = open(csv_path, 'r')\n",
    "    csv_data = csv_file.readlines()\n",
    "    csv_file.close()\n",
    "    return csv_data\n",
    "\n",
    "def split_train_val(data, val_ratio):\n",
    "    return \n",
    "    \n",
    "\n",
    "train = load_mnist_data(MNIST_PATH,CSV_FILE_TRAIN)\n",
    "test = load_mnist_data(MNIST_PATH,CSV_FILE_TEST)"
   ],
   "outputs": [],
   "metadata": {}
  },
  {
   "cell_type": "code",
   "execution_count": 22,
   "source": [
    "y = train['label'].copy()\n",
    "X = train.drop(['label'], axis=1)\n",
    "\n",
    "X_test = test.copy()"
   ],
   "outputs": [],
   "metadata": {}
  },
  {
   "cell_type": "markdown",
   "source": [
    "## Train / Val Split"
   ],
   "metadata": {}
  },
  {
   "cell_type": "code",
   "execution_count": 23,
   "source": [
    "print(\"Shape of the Features: \",X.shape)\n",
    "print(\"Shape of the Labels: \", y.shape)"
   ],
   "outputs": [
    {
     "output_type": "stream",
     "name": "stdout",
     "text": [
      "Shape of the Features:  (42000, 784)\n",
      "Shape of the Labels:  (42000,)\n"
     ]
    }
   ],
   "metadata": {}
  },
  {
   "cell_type": "markdown",
   "source": [
    "### Label Value Count\r\n",
    "Visualizing the label distribution of the full train dataset."
   ],
   "metadata": {}
  },
  {
   "cell_type": "code",
   "execution_count": 24,
   "source": [
    "train.value_counts('label')"
   ],
   "outputs": [
    {
     "output_type": "execute_result",
     "data": {
      "text/plain": [
       "label\n",
       "1    4684\n",
       "7    4401\n",
       "3    4351\n",
       "9    4188\n",
       "2    4177\n",
       "6    4137\n",
       "0    4132\n",
       "4    4072\n",
       "8    4063\n",
       "5    3795\n",
       "dtype: int64"
      ]
     },
     "metadata": {},
     "execution_count": 24
    }
   ],
   "metadata": {}
  },
  {
   "cell_type": "code",
   "execution_count": 25,
   "source": [
    "X_train, X_val, y_train, y_val = train_test_split(X, y, random_state=seed, test_size=0.15\n",
    "                                                  , stratify=y\n",
    "                                                 )"
   ],
   "outputs": [],
   "metadata": {}
  },
  {
   "cell_type": "markdown",
   "source": [
    "Comparing the equally splitted train- and val-sets based on the given label y."
   ],
   "metadata": {}
  },
  {
   "cell_type": "code",
   "execution_count": 26,
   "source": [
    "print(\"Train - Set Distribution\")\n",
    "print(y_train.value_counts() / y_train.value_counts().sum() )\n",
    "print('--------------------------------------------------------------')\n",
    "print('--------------------------------------------------------------')\n",
    "print('--------------------------------------------------------------')\n",
    "print(\"Val - Set Distribution\")\n",
    "print(y_val.value_counts() / y_val.value_counts().sum() )\n"
   ],
   "outputs": [
    {
     "output_type": "stream",
     "name": "stdout",
     "text": [
      "Train - Set Distribution\n",
      "1    0.111513\n",
      "7    0.104790\n",
      "3    0.103585\n",
      "9    0.099720\n",
      "2    0.099440\n",
      "6    0.098515\n",
      "0    0.098375\n",
      "4    0.096947\n",
      "8    0.096751\n",
      "5    0.090364\n",
      "Name: label, dtype: float64\n",
      "--------------------------------------------------------------\n",
      "--------------------------------------------------------------\n",
      "--------------------------------------------------------------\n",
      "Val - Set Distribution\n",
      "1    0.111587\n",
      "7    0.104762\n",
      "3    0.103651\n",
      "9    0.099683\n",
      "2    0.099524\n",
      "6    0.098413\n",
      "0    0.098413\n",
      "4    0.096984\n",
      "8    0.096667\n",
      "5    0.090317\n",
      "Name: label, dtype: float64\n"
     ]
    }
   ],
   "metadata": {}
  },
  {
   "cell_type": "code",
   "execution_count": 27,
   "source": [
    "print(\"X: \", X.shape)\n",
    "print(\"X_train: \", X_train.shape)\n",
    "print(\"X_val: \", X_val.shape)\n",
    "\n",
    "print(\"y_train: \", y_train.shape)\n",
    "print(\"y_val: \", y_val.shape)"
   ],
   "outputs": [
    {
     "output_type": "stream",
     "name": "stdout",
     "text": [
      "X:  (42000, 784)\n",
      "X_train:  (35700, 784)\n",
      "X_val:  (6300, 784)\n",
      "y_train:  (35700,)\n",
      "y_val:  (6300,)\n"
     ]
    }
   ],
   "metadata": {}
  },
  {
   "cell_type": "markdown",
   "source": [
    "## Building Transforming Piplines"
   ],
   "metadata": {}
  },
  {
   "cell_type": "code",
   "execution_count": 28,
   "source": [
    "from sklearn.pipeline import Pipeline\n",
    "from sklearn.preprocessing import Normalizer\n",
    "from sklearn.preprocessing import StandardScaler\n",
    "\n",
    "pipeline = Pipeline([\n",
    "    ('normalizer', Normalizer())\n",
    "    #('std_scalar',StandardScaler())\n",
    "])"
   ],
   "outputs": [],
   "metadata": {}
  },
  {
   "cell_type": "code",
   "execution_count": 29,
   "source": [
    "X_train_prep = pipeline.fit_transform(X_train)      # fitting the pipeline to the train and transform it\n",
    "X_val_prep = pipeline.transform(X_val)              # transform val data with this information"
   ],
   "outputs": [],
   "metadata": {}
  },
  {
   "cell_type": "markdown",
   "source": [
    "# Building a Deep Neural Network based on RandomizedSearch"
   ],
   "metadata": {}
  },
  {
   "cell_type": "markdown",
   "source": [
    "## Preparing Model Visualization with Tensorboard (not for Kaggle)"
   ],
   "metadata": {}
  },
  {
   "cell_type": "code",
   "execution_count": 30,
   "source": [
    "root_logdir = \"../../tensorboard-logs\"\n",
    "\n",
    "print(\"Relative root_logdir: \",root_logdir)\n",
    "\n",
    "def get_run_logdir():\n",
    "    import time\n",
    "    run_id = time.strftime(\"run_%Y_%m_%d-%H_%M_%S\")\n",
    "    return os.path.join(root_logdir,run_id)"
   ],
   "outputs": [
    {
     "output_type": "stream",
     "name": "stdout",
     "text": [
      "Relative root_logdir:  ../../tensorboard-logs\n"
     ]
    }
   ],
   "metadata": {}
  },
  {
   "cell_type": "code",
   "execution_count": 31,
   "source": [
    "run_logdir = get_run_logdir()\n",
    "print(\"Current run logdir for Tensorboard: \", run_logdir)"
   ],
   "outputs": [
    {
     "output_type": "stream",
     "name": "stdout",
     "text": [
      "Current run logdir for Tensorboard:  ../../tensorboard-logs\\run_2021_09_07-09_27_15\n"
     ]
    }
   ],
   "metadata": {}
  },
  {
   "cell_type": "code",
   "execution_count": 32,
   "source": [
    "run_logdir"
   ],
   "outputs": [
    {
     "output_type": "execute_result",
     "data": {
      "text/plain": [
       "'../../tensorboard-logs\\\\run_2021_09_07-09_27_15'"
      ]
     },
     "metadata": {},
     "execution_count": 32
    }
   ],
   "metadata": {}
  },
  {
   "cell_type": "markdown",
   "source": [
    "### Keras Callbacks for Tensorboard\n",
    "With Keras there is a way of using Callbacks for the Tensorboard to write log files for the board and visualize the different graphs (loss and val curve)\n"
   ],
   "metadata": {}
  },
  {
   "cell_type": "code",
   "execution_count": 33,
   "source": [
    "tensorboard_cb = keras.callbacks.TensorBoard(run_logdir)"
   ],
   "outputs": [],
   "metadata": {}
  },
  {
   "cell_type": "markdown",
   "source": [
    "## Building Model Architecture"
   ],
   "metadata": {}
  },
  {
   "cell_type": "markdown",
   "source": [
    "### Architecture for Hyperparameter Optimization\r\n",
    "- Amount of Layers\r\n",
    "- Amount of Neurons\r\n",
    "- Learningrate\r\n",
    "- Checkpoints\r\n",
    "- Early Stopping "
   ],
   "metadata": {}
  },
  {
   "cell_type": "code",
   "execution_count": 34,
   "source": [
    "def build_model(n_hidden=1, n_neurons=30, learning_rate=3e-3, input_shape=[784]):\n",
    "    model = keras.models.Sequential()                               # base model structure (Sequential API by Keras)\n",
    "\n",
    "    model.add(keras.layers.InputLayer(input_shape=input_shape))     # input layer\n",
    "\n",
    "    for layer in range(n_hidden):                                   # add layers as often as defined in constructor \n",
    "        model.add(keras.layers.Dense(n_neurons,activation=\"relu\"))  # add layer with given neurons and relu activation function\n",
    "\n",
    "    model.add(keras.layers.Dense(10, activation=\"softmax\"))                               # add output layer \n",
    "\n",
    "    optimizer = keras.optimizers.SGD(learning_rate=learning_rate)   # define optimizer (especially the larning rate for hyperparameter optimization)\n",
    "\n",
    "    model.compile(loss='sparse_categorical_crossentropy', optimizer=optimizer, metrics=['accuracy'])                  # make it ready\n",
    "\n",
    "    return model\n"
   ],
   "outputs": [],
   "metadata": {}
  },
  {
   "cell_type": "code",
   "execution_count": 35,
   "source": [
    "# Using keras wrapper as hull \n",
    "keras_cl = keras.wrappers.scikit_learn.KerasClassifier(build_model)"
   ],
   "outputs": [],
   "metadata": {}
  },
  {
   "cell_type": "markdown",
   "source": [
    "### Hyperparameter Space"
   ],
   "metadata": {}
  },
  {
   "cell_type": "code",
   "execution_count": 36,
   "source": [
    "from scipy.stats import reciprocal\n",
    "\n",
    "# Hyperparameter set\n",
    "param_dist= {\n",
    "            \"n_neurons\": range(20, 500, 20)\n",
    "            ,\"n_hidden\": range(10, 100, 10)\n",
    "            ,\"learning_rate\": [1e-3, 2e-3]\n",
    "    }\n",
    "\n",
    "\n",
    "param_dist_lr= {\n",
    "        \"n_neurons\": [10, 50, 100, 150, 300]\n",
    "        ,\"n_hidden\": [10, 50, 100, 150]\n",
    "        ,\"learning_rate\": [1e-3, 3e-4, 3e-2]\n",
    "}\n",
    "\n",
    "\n",
    "param_dist_bestrun_1 = {\n",
    "        \"n_neurons\": [150]\n",
    "        ,\"n_hidden\": [30]\n",
    "        ,\"learning_rate\": [2e-3]  \n",
    "}\n",
    "\n",
    "\n",
    "param_dist_bestrun_2 = {\n",
    "        \"n_neurons\": [100]\n",
    "        ,\"n_hidden\": [10]\n",
    "        ,\"learning_rate\": [2e-3]  \n",
    "}"
   ],
   "outputs": [],
   "metadata": {}
  },
  {
   "cell_type": "markdown",
   "source": [
    "## Model Checkpoints"
   ],
   "metadata": {}
  },
  {
   "cell_type": "code",
   "execution_count": 37,
   "source": [
    "checkpoint_cb = keras.callbacks.ModelCheckpoint(\"my_cl_model.h5\", save_best_only=True, save_weights_only=False)"
   ],
   "outputs": [],
   "metadata": {}
  },
  {
   "cell_type": "markdown",
   "source": [
    "## Model Training"
   ],
   "metadata": {}
  },
  {
   "cell_type": "markdown",
   "source": [
    "### Randomized Search\r\n",
    "Finding best hyperparameters with Randomized search"
   ],
   "metadata": {}
  },
  {
   "cell_type": "code",
   "execution_count": 38,
   "source": [
    "from sklearn.model_selection import RandomizedSearchCV\n",
    "\n",
    "ran_ker_cl = RandomizedSearchCV(keras_cl, param_dist_lr, n_iter=10, n_jobs=5, cv=3, random_state=seed, return_train_score=True)\n",
    "history_ker_cl = ran_ker_cl.fit(X_train_prep, y_train, epochs=100, validation_data=(X_val_prep, y_val), callbacks=[checkpoint_cb, keras.callbacks.EarlyStopping(patience=5), tensorboard_cb])"
   ],
   "outputs": [
    {
     "output_type": "stream",
     "name": "stdout",
     "text": [
      "Epoch 1/100\n",
      "   1/1116 [..............................] - ETA: 0s - loss: 2.3028 - accuracy: 0.0312WARNING:tensorflow:From D:\\anaconda3\\envs\\wingpuflake_keras\\lib\\site-packages\\tensorflow\\python\\ops\\summary_ops_v2.py:1277: stop (from tensorflow.python.eager.profiler) is deprecated and will be removed after 2020-07-01.\n",
      "Instructions for updating:\n",
      "use `tf.profiler.experimental.stop` instead.\n",
      "WARNING:tensorflow:Callbacks method `on_train_batch_end` is slow compared to the batch time (batch time: 0.0045s vs `on_train_batch_end` time: 0.0200s). Check your callbacks.\n",
      "1116/1116 [==============================] - 5s 5ms/step - loss: 1.9449 - accuracy: 0.2980 - val_loss: 0.9194 - val_accuracy: 0.6656\n",
      "Epoch 2/100\n",
      "1116/1116 [==============================] - 5s 4ms/step - loss: 0.6494 - accuracy: 0.7851 - val_loss: 0.5103 - val_accuracy: 0.8297\n",
      "Epoch 3/100\n",
      "1116/1116 [==============================] - 5s 4ms/step - loss: 0.3302 - accuracy: 0.8994 - val_loss: 0.5382 - val_accuracy: 0.8294\n",
      "Epoch 4/100\n",
      "1116/1116 [==============================] - 5s 4ms/step - loss: 0.2391 - accuracy: 0.9278 - val_loss: 0.3825 - val_accuracy: 0.8789\n",
      "Epoch 5/100\n",
      "1116/1116 [==============================] - 5s 4ms/step - loss: 0.1919 - accuracy: 0.9418 - val_loss: 0.1987 - val_accuracy: 0.9417\n",
      "Epoch 6/100\n",
      "1116/1116 [==============================] - 5s 4ms/step - loss: 0.1558 - accuracy: 0.9524 - val_loss: 0.1528 - val_accuracy: 0.9557\n",
      "Epoch 7/100\n",
      "1116/1116 [==============================] - 5s 4ms/step - loss: 0.1328 - accuracy: 0.9600 - val_loss: 0.2943 - val_accuracy: 0.9121\n",
      "Epoch 8/100\n",
      "1116/1116 [==============================] - 5s 4ms/step - loss: 0.1173 - accuracy: 0.9639 - val_loss: 0.1661 - val_accuracy: 0.9492\n",
      "Epoch 9/100\n",
      "1116/1116 [==============================] - 5s 4ms/step - loss: 0.1041 - accuracy: 0.9681 - val_loss: 0.1223 - val_accuracy: 0.9641\n",
      "Epoch 10/100\n",
      "1116/1116 [==============================] - 5s 4ms/step - loss: 0.0919 - accuracy: 0.9723 - val_loss: 0.1201 - val_accuracy: 0.9667\n",
      "Epoch 11/100\n",
      "1116/1116 [==============================] - 5s 4ms/step - loss: 0.0844 - accuracy: 0.9746 - val_loss: 0.1463 - val_accuracy: 0.9598\n",
      "Epoch 12/100\n",
      "1116/1116 [==============================] - 5s 4ms/step - loss: 0.0746 - accuracy: 0.9769 - val_loss: 0.1373 - val_accuracy: 0.9630\n",
      "Epoch 13/100\n",
      "1116/1116 [==============================] - 5s 4ms/step - loss: 0.0696 - accuracy: 0.9780 - val_loss: 1.1761 - val_accuracy: 0.7667\n",
      "Epoch 14/100\n",
      "1116/1116 [==============================] - 5s 4ms/step - loss: 0.0607 - accuracy: 0.9814 - val_loss: 0.6195 - val_accuracy: 0.8686\n",
      "Epoch 15/100\n",
      "1116/1116 [==============================] - 5s 4ms/step - loss: 0.0573 - accuracy: 0.9822 - val_loss: 0.1070 - val_accuracy: 0.9713\n",
      "Epoch 16/100\n",
      "1116/1116 [==============================] - 5s 4ms/step - loss: 0.0505 - accuracy: 0.9845 - val_loss: 0.1332 - val_accuracy: 0.9660\n",
      "Epoch 17/100\n",
      "1116/1116 [==============================] - 5s 4ms/step - loss: 0.0473 - accuracy: 0.9854 - val_loss: 0.2119 - val_accuracy: 0.9459\n",
      "Epoch 18/100\n",
      "1116/1116 [==============================] - 5s 4ms/step - loss: 0.0427 - accuracy: 0.9867 - val_loss: 0.1080 - val_accuracy: 0.9719\n",
      "Epoch 19/100\n",
      "1116/1116 [==============================] - 5s 4ms/step - loss: 0.0387 - accuracy: 0.9887 - val_loss: 0.1418 - val_accuracy: 0.9638\n",
      "Epoch 20/100\n",
      "1116/1116 [==============================] - 5s 4ms/step - loss: 0.0395 - accuracy: 0.9882 - val_loss: 0.0989 - val_accuracy: 0.9743\n",
      "Epoch 21/100\n",
      "1116/1116 [==============================] - 5s 4ms/step - loss: 0.0338 - accuracy: 0.9899 - val_loss: 0.1072 - val_accuracy: 0.9714\n",
      "Epoch 22/100\n",
      "1116/1116 [==============================] - 5s 4ms/step - loss: 0.0334 - accuracy: 0.9897 - val_loss: 0.1149 - val_accuracy: 0.9725\n",
      "Epoch 23/100\n",
      "1116/1116 [==============================] - 5s 4ms/step - loss: 0.0292 - accuracy: 0.9910 - val_loss: 0.1458 - val_accuracy: 0.9640\n",
      "Epoch 24/100\n",
      "1116/1116 [==============================] - 5s 4ms/step - loss: 0.0251 - accuracy: 0.9926 - val_loss: 0.1044 - val_accuracy: 0.9773\n",
      "Epoch 25/100\n",
      "1116/1116 [==============================] - 5s 4ms/step - loss: 0.0247 - accuracy: 0.9930 - val_loss: 0.1159 - val_accuracy: 0.9738\n"
     ]
    }
   ],
   "metadata": {
    "collapsed": true,
    "jupyter": {
     "outputs_hidden": true
    },
    "tags": []
   }
  },
  {
   "cell_type": "code",
   "execution_count": 39,
   "source": [
    "history_ker_cl.best_params_"
   ],
   "outputs": [
    {
     "output_type": "execute_result",
     "data": {
      "text/plain": [
       "{'n_neurons': 300, 'n_hidden': 10, 'learning_rate': 0.03}"
      ]
     },
     "metadata": {},
     "execution_count": 39
    }
   ],
   "metadata": {}
  },
  {
   "cell_type": "code",
   "execution_count": 40,
   "source": [
    "history_ker_cl"
   ],
   "outputs": [
    {
     "output_type": "execute_result",
     "data": {
      "text/plain": [
       "RandomizedSearchCV(cv=3,\n",
       "                   estimator=<tensorflow.python.keras.wrappers.scikit_learn.KerasClassifier object at 0x000002071F136C40>,\n",
       "                   n_jobs=5,\n",
       "                   param_distributions={'learning_rate': [0.001, 0.0003, 0.03],\n",
       "                                        'n_hidden': [10, 50, 100, 150],\n",
       "                                        'n_neurons': [10, 50, 100, 150, 300]},\n",
       "                   random_state=43, return_train_score=True)"
      ]
     },
     "metadata": {},
     "execution_count": 40
    }
   ],
   "metadata": {}
  },
  {
   "cell_type": "markdown",
   "source": [
    "### Model Training with Full Dataset \r\n",
    "In this part I will train the model with the full dataset. This time I will use the discovered hyperparameters from the randomized search from the previous part.\r\n",
    "\r\n",
    "Based on the hyperparameter search the following parameters were found:\r\n",
    "- n_neurons = 150\r\n",
    "- n_hidden = 10\r\n",
    "- learning_rate = 0.03"
   ],
   "metadata": {}
  },
  {
   "cell_type": "code",
   "execution_count": 41,
   "source": [
    "# Creating wrapped regression model with our function. \n",
    "keras_cl_model = keras_cl.build_fn(n_neurons= 150, n_hidden= 10, learning_rate=0.03)"
   ],
   "outputs": [],
   "metadata": {}
  },
  {
   "cell_type": "code",
   "execution_count": 42,
   "source": [
    "keras_cl_model.summary()"
   ],
   "outputs": [
    {
     "output_type": "stream",
     "name": "stdout",
     "text": [
      "Model: \"sequential_32\"\n",
      "_________________________________________________________________\n",
      "Layer (type)                 Output Shape              Param #   \n",
      "=================================================================\n",
      "dense_2382 (Dense)           (None, 150)               117750    \n",
      "_________________________________________________________________\n",
      "dense_2383 (Dense)           (None, 150)               22650     \n",
      "_________________________________________________________________\n",
      "dense_2384 (Dense)           (None, 150)               22650     \n",
      "_________________________________________________________________\n",
      "dense_2385 (Dense)           (None, 150)               22650     \n",
      "_________________________________________________________________\n",
      "dense_2386 (Dense)           (None, 150)               22650     \n",
      "_________________________________________________________________\n",
      "dense_2387 (Dense)           (None, 150)               22650     \n",
      "_________________________________________________________________\n",
      "dense_2388 (Dense)           (None, 150)               22650     \n",
      "_________________________________________________________________\n",
      "dense_2389 (Dense)           (None, 150)               22650     \n",
      "_________________________________________________________________\n",
      "dense_2390 (Dense)           (None, 150)               22650     \n",
      "_________________________________________________________________\n",
      "dense_2391 (Dense)           (None, 150)               22650     \n",
      "_________________________________________________________________\n",
      "dense_2392 (Dense)           (None, 10)                1510      \n",
      "=================================================================\n",
      "Total params: 323,110\n",
      "Trainable params: 323,110\n",
      "Non-trainable params: 0\n",
      "_________________________________________________________________\n"
     ]
    }
   ],
   "metadata": {}
  },
  {
   "cell_type": "code",
   "execution_count": 43,
   "source": [
    "# creating a new log dir for tensorboard\n",
    "tensorboard_cb_f = keras.callbacks.TensorBoard(get_run_logdir())\n",
    "checkpoint_cb_f = keras.callbacks.ModelCheckpoint(\"my_keras_cl_model.h5\", save_best_only=False, save_weights_only=False)"
   ],
   "outputs": [],
   "metadata": {}
  },
  {
   "cell_type": "code",
   "execution_count": 44,
   "source": [
    "# preparing data based on our beautifull trained data pipeline\n",
    "X_prep_all = pipeline.transform(X)"
   ],
   "outputs": [],
   "metadata": {}
  },
  {
   "cell_type": "code",
   "execution_count": 45,
   "source": [
    "# Train the model again pleeeeease with all you got .... especially the new transformed data matrix X \n",
    "keras_cl_model.fit(X_prep_all, y, epochs=100, callbacks=[tensorboard_cb_f, checkpoint_cb_f])"
   ],
   "outputs": [
    {
     "output_type": "stream",
     "name": "stdout",
     "text": [
      "Epoch 1/100\n",
      "   2/1313 [..............................] - ETA: 4:12 - loss: 2.3030 - accuracy: 0.1406WARNING:tensorflow:Callbacks method `on_train_batch_end` is slow compared to the batch time (batch time: 0.0025s vs `on_train_batch_end` time: 0.3825s). Check your callbacks.\n",
      "1313/1313 [==============================] - 3s 2ms/step - loss: 1.7560 - accuracy: 0.3300\n",
      "Epoch 2/100\n",
      "1313/1313 [==============================] - 2s 2ms/step - loss: 0.6506 - accuracy: 0.7680\n",
      "Epoch 3/100\n",
      "1313/1313 [==============================] - 2s 2ms/step - loss: 0.3418 - accuracy: 0.8982\n",
      "Epoch 4/100\n",
      "1313/1313 [==============================] - 2s 2ms/step - loss: 0.2443 - accuracy: 0.9284\n",
      "Epoch 5/100\n",
      "1313/1313 [==============================] - 2s 2ms/step - loss: 0.1947 - accuracy: 0.9421\n",
      "Epoch 6/100\n",
      "1313/1313 [==============================] - 2s 2ms/step - loss: 0.1622 - accuracy: 0.9514\n",
      "Epoch 7/100\n",
      "1313/1313 [==============================] - 2s 2ms/step - loss: 0.1378 - accuracy: 0.9598\n",
      "Epoch 8/100\n",
      "1313/1313 [==============================] - 2s 2ms/step - loss: 0.1246 - accuracy: 0.9631\n",
      "Epoch 9/100\n",
      "1313/1313 [==============================] - 2s 2ms/step - loss: 0.1104 - accuracy: 0.9672\n",
      "Epoch 10/100\n",
      "1313/1313 [==============================] - 2s 2ms/step - loss: 0.1012 - accuracy: 0.9697\n",
      "Epoch 11/100\n",
      "1313/1313 [==============================] - 2s 2ms/step - loss: 0.0916 - accuracy: 0.9724\n",
      "Epoch 12/100\n",
      "1313/1313 [==============================] - 2s 2ms/step - loss: 0.0827 - accuracy: 0.9753\n",
      "Epoch 13/100\n",
      "1313/1313 [==============================] - 2s 2ms/step - loss: 0.0755 - accuracy: 0.9773\n",
      "Epoch 14/100\n",
      "1313/1313 [==============================] - 2s 2ms/step - loss: 0.0690 - accuracy: 0.9797\n",
      "Epoch 15/100\n",
      "1313/1313 [==============================] - 2s 2ms/step - loss: 0.0650 - accuracy: 0.9797\n",
      "Epoch 16/100\n",
      "1313/1313 [==============================] - 2s 2ms/step - loss: 0.0582 - accuracy: 0.9823\n",
      "Epoch 17/100\n",
      "1313/1313 [==============================] - 2s 2ms/step - loss: 0.0558 - accuracy: 0.9830\n",
      "Epoch 18/100\n",
      "1313/1313 [==============================] - 2s 2ms/step - loss: 0.0495 - accuracy: 0.9849\n",
      "Epoch 19/100\n",
      "1313/1313 [==============================] - 2s 2ms/step - loss: 0.0462 - accuracy: 0.9862\n",
      "Epoch 20/100\n",
      "1313/1313 [==============================] - 2s 2ms/step - loss: 0.0436 - accuracy: 0.9867\n",
      "Epoch 21/100\n",
      "1313/1313 [==============================] - 2s 2ms/step - loss: 0.0418 - accuracy: 0.9869\n",
      "Epoch 22/100\n",
      "1313/1313 [==============================] - 2s 2ms/step - loss: 0.0362 - accuracy: 0.9891\n",
      "Epoch 23/100\n",
      "1313/1313 [==============================] - 2s 2ms/step - loss: 0.0362 - accuracy: 0.9894\n",
      "Epoch 24/100\n",
      "1313/1313 [==============================] - 2s 2ms/step - loss: 0.0314 - accuracy: 0.9902\n",
      "Epoch 25/100\n",
      "1313/1313 [==============================] - 2s 2ms/step - loss: 0.0293 - accuracy: 0.9912\n",
      "Epoch 26/100\n",
      "1313/1313 [==============================] - 2s 2ms/step - loss: 0.0298 - accuracy: 0.9909\n",
      "Epoch 27/100\n",
      "1313/1313 [==============================] - 2s 2ms/step - loss: 0.0262 - accuracy: 0.9925\n",
      "Epoch 28/100\n",
      "1313/1313 [==============================] - 2s 2ms/step - loss: 0.0235 - accuracy: 0.9931\n",
      "Epoch 29/100\n",
      "1313/1313 [==============================] - 2s 2ms/step - loss: 0.0244 - accuracy: 0.9925\n",
      "Epoch 30/100\n",
      "1313/1313 [==============================] - 2s 2ms/step - loss: 0.0282 - accuracy: 0.9913\n",
      "Epoch 31/100\n",
      "1313/1313 [==============================] - 2s 2ms/step - loss: 0.0186 - accuracy: 0.9945\n",
      "Epoch 32/100\n",
      "1313/1313 [==============================] - 2s 2ms/step - loss: 0.0205 - accuracy: 0.9943\n",
      "Epoch 33/100\n",
      "1313/1313 [==============================] - 2s 2ms/step - loss: 0.0193 - accuracy: 0.9942\n",
      "Epoch 34/100\n",
      "1313/1313 [==============================] - 2s 2ms/step - loss: 0.0188 - accuracy: 0.9943\n",
      "Epoch 35/100\n",
      "1313/1313 [==============================] - 2s 2ms/step - loss: 0.0155 - accuracy: 0.9954\n",
      "Epoch 36/100\n",
      "1313/1313 [==============================] - 2s 2ms/step - loss: 0.0223 - accuracy: 0.9932\n",
      "Epoch 37/100\n",
      "1313/1313 [==============================] - 2s 2ms/step - loss: 0.0138 - accuracy: 0.9960\n",
      "Epoch 38/100\n",
      "1313/1313 [==============================] - 2s 2ms/step - loss: 0.0156 - accuracy: 0.9954\n",
      "Epoch 39/100\n",
      "1313/1313 [==============================] - 2s 2ms/step - loss: 0.0135 - accuracy: 0.9955\n",
      "Epoch 40/100\n",
      "1313/1313 [==============================] - 2s 2ms/step - loss: 0.0133 - accuracy: 0.9962\n",
      "Epoch 41/100\n",
      "1313/1313 [==============================] - 2s 2ms/step - loss: 0.0144 - accuracy: 0.9956\n",
      "Epoch 42/100\n",
      "1313/1313 [==============================] - 2s 2ms/step - loss: 0.0125 - accuracy: 0.9962\n",
      "Epoch 43/100\n",
      "1313/1313 [==============================] - 2s 2ms/step - loss: 0.0126 - accuracy: 0.9960\n",
      "Epoch 44/100\n",
      "1313/1313 [==============================] - 2s 2ms/step - loss: 0.0147 - accuracy: 0.9954\n",
      "Epoch 45/100\n",
      "1313/1313 [==============================] - 2s 2ms/step - loss: 0.0103 - accuracy: 0.9970\n",
      "Epoch 46/100\n",
      "1313/1313 [==============================] - 2s 2ms/step - loss: 0.0069 - accuracy: 0.9980\n",
      "Epoch 47/100\n",
      "1313/1313 [==============================] - 2s 2ms/step - loss: 0.0075 - accuracy: 0.9979\n",
      "Epoch 48/100\n",
      "1313/1313 [==============================] - 2s 2ms/step - loss: 0.0065 - accuracy: 0.9982\n",
      "Epoch 49/100\n",
      "1313/1313 [==============================] - 2s 2ms/step - loss: 0.0119 - accuracy: 0.9965\n",
      "Epoch 50/100\n",
      "1313/1313 [==============================] - 2s 2ms/step - loss: 0.0071 - accuracy: 0.9980\n",
      "Epoch 51/100\n",
      "1313/1313 [==============================] - 2s 2ms/step - loss: 0.0104 - accuracy: 0.9966\n",
      "Epoch 52/100\n",
      "1313/1313 [==============================] - 2s 2ms/step - loss: 0.0074 - accuracy: 0.9979\n",
      "Epoch 53/100\n",
      "1313/1313 [==============================] - 2s 2ms/step - loss: 0.0047 - accuracy: 0.9987\n",
      "Epoch 54/100\n",
      "1313/1313 [==============================] - 2s 2ms/step - loss: 0.0083 - accuracy: 0.9977\n",
      "Epoch 55/100\n",
      "1313/1313 [==============================] - 2s 2ms/step - loss: 0.0068 - accuracy: 0.9980\n",
      "Epoch 56/100\n",
      "1313/1313 [==============================] - 2s 2ms/step - loss: 0.0016 - accuracy: 0.9997\n",
      "Epoch 57/100\n",
      "1313/1313 [==============================] - 2s 2ms/step - loss: 0.0027 - accuracy: 0.9993\n",
      "Epoch 58/100\n",
      "1313/1313 [==============================] - 2s 2ms/step - loss: 9.3790e-04 - accuracy: 0.9998\n",
      "Epoch 59/100\n",
      "1313/1313 [==============================] - 2s 2ms/step - loss: 7.9877e-04 - accuracy: 0.9999\n",
      "Epoch 60/100\n",
      "1313/1313 [==============================] - 2s 2ms/step - loss: 7.3187e-04 - accuracy: 0.9999\n",
      "Epoch 61/100\n",
      "1313/1313 [==============================] - 2s 2ms/step - loss: 0.0025 - accuracy: 0.9994\n",
      "Epoch 62/100\n",
      "1313/1313 [==============================] - 2s 2ms/step - loss: 6.8880e-04 - accuracy: 0.9999\n",
      "Epoch 63/100\n",
      "1313/1313 [==============================] - 2s 2ms/step - loss: 6.3986e-04 - accuracy: 0.9999\n",
      "Epoch 64/100\n",
      "1313/1313 [==============================] - 2s 2ms/step - loss: 5.2639e-04 - accuracy: 0.9999\n",
      "Epoch 65/100\n",
      "1313/1313 [==============================] - 2s 2ms/step - loss: 0.0165 - accuracy: 0.9961\n",
      "Epoch 66/100\n",
      "1313/1313 [==============================] - 2s 2ms/step - loss: 0.0109 - accuracy: 0.9969\n",
      "Epoch 67/100\n",
      "1313/1313 [==============================] - 2s 2ms/step - loss: 0.0051 - accuracy: 0.9985\n",
      "Epoch 68/100\n",
      "1313/1313 [==============================] - 2s 2ms/step - loss: 0.0031 - accuracy: 0.9992\n",
      "Epoch 69/100\n",
      "1313/1313 [==============================] - 2s 2ms/step - loss: 0.0076 - accuracy: 0.9976\n",
      "Epoch 70/100\n",
      "1313/1313 [==============================] - 2s 2ms/step - loss: 0.0017 - accuracy: 0.9997\n",
      "Epoch 71/100\n",
      "1313/1313 [==============================] - 2s 2ms/step - loss: 7.9878e-04 - accuracy: 0.9999\n",
      "Epoch 72/100\n",
      "1313/1313 [==============================] - 2s 2ms/step - loss: 6.0279e-04 - accuracy: 0.9999\n",
      "Epoch 73/100\n",
      "1313/1313 [==============================] - 2s 2ms/step - loss: 5.0623e-04 - accuracy: 1.0000\n",
      "Epoch 74/100\n",
      "1313/1313 [==============================] - 2s 2ms/step - loss: 4.5908e-04 - accuracy: 1.0000\n",
      "Epoch 75/100\n",
      "1313/1313 [==============================] - 2s 2ms/step - loss: 4.4015e-04 - accuracy: 1.0000\n",
      "Epoch 76/100\n",
      "1313/1313 [==============================] - 2s 2ms/step - loss: 4.0426e-04 - accuracy: 1.0000\n",
      "Epoch 77/100\n",
      "1313/1313 [==============================] - 2s 2ms/step - loss: 3.8722e-04 - accuracy: 1.0000\n",
      "Epoch 78/100\n",
      "1313/1313 [==============================] - 2s 2ms/step - loss: 3.7317e-04 - accuracy: 1.0000\n",
      "Epoch 79/100\n",
      "1313/1313 [==============================] - 2s 2ms/step - loss: 3.5777e-04 - accuracy: 1.0000\n",
      "Epoch 80/100\n",
      "1313/1313 [==============================] - 2s 2ms/step - loss: 3.4906e-04 - accuracy: 1.0000\n",
      "Epoch 81/100\n",
      "1313/1313 [==============================] - 2s 2ms/step - loss: 3.3850e-04 - accuracy: 1.0000\n",
      "Epoch 82/100\n",
      "1313/1313 [==============================] - 2s 2ms/step - loss: 3.2874e-04 - accuracy: 1.0000\n",
      "Epoch 83/100\n",
      "1313/1313 [==============================] - 2s 2ms/step - loss: 3.1895e-04 - accuracy: 1.0000\n",
      "Epoch 84/100\n",
      "1313/1313 [==============================] - 2s 2ms/step - loss: 3.0525e-04 - accuracy: 1.0000\n",
      "Epoch 85/100\n",
      "1313/1313 [==============================] - 2s 2ms/step - loss: 2.8249e-04 - accuracy: 1.0000\n",
      "Epoch 86/100\n",
      "1313/1313 [==============================] - 2s 2ms/step - loss: 2.6084e-04 - accuracy: 1.0000\n",
      "Epoch 87/100\n",
      "1313/1313 [==============================] - 2s 2ms/step - loss: 2.5013e-04 - accuracy: 1.0000\n",
      "Epoch 88/100\n",
      "1313/1313 [==============================] - 2s 2ms/step - loss: 2.4395e-04 - accuracy: 1.0000\n",
      "Epoch 89/100\n",
      "1313/1313 [==============================] - 2s 2ms/step - loss: 2.3578e-04 - accuracy: 1.0000\n",
      "Epoch 90/100\n",
      "1313/1313 [==============================] - 2s 2ms/step - loss: 2.4808e-04 - accuracy: 1.0000\n",
      "Epoch 91/100\n",
      "1313/1313 [==============================] - 2s 2ms/step - loss: 2.2283e-04 - accuracy: 1.0000\n",
      "Epoch 92/100\n",
      "1313/1313 [==============================] - 2s 2ms/step - loss: 2.3477e-04 - accuracy: 1.0000\n",
      "Epoch 93/100\n",
      "1313/1313 [==============================] - 2s 2ms/step - loss: 0.0156 - accuracy: 0.9965\n",
      "Epoch 94/100\n",
      "1313/1313 [==============================] - 2s 2ms/step - loss: 0.0063 - accuracy: 0.9983\n",
      "Epoch 95/100\n",
      "1313/1313 [==============================] - 2s 2ms/step - loss: 0.0033 - accuracy: 0.9990\n",
      "Epoch 96/100\n",
      "1313/1313 [==============================] - 2s 2ms/step - loss: 0.0053 - accuracy: 0.9984\n",
      "Epoch 97/100\n",
      "1313/1313 [==============================] - 2s 2ms/step - loss: 0.0026 - accuracy: 0.9993\n",
      "Epoch 98/100\n",
      "1313/1313 [==============================] - 2s 2ms/step - loss: 6.2563e-04 - accuracy: 0.9999\n",
      "Epoch 99/100\n",
      "1313/1313 [==============================] - 2s 2ms/step - loss: 0.0100 - accuracy: 0.9972\n",
      "Epoch 100/100\n",
      "1313/1313 [==============================] - 2s 2ms/step - loss: 0.0075 - accuracy: 0.9978\n"
     ]
    },
    {
     "output_type": "execute_result",
     "data": {
      "text/plain": [
       "<tensorflow.python.keras.callbacks.History at 0x20770c2d460>"
      ]
     },
     "metadata": {},
     "execution_count": 45
    }
   ],
   "metadata": {}
  },
  {
   "cell_type": "markdown",
   "source": [
    "# Image Prediction of Unknown Data (Test Data)"
   ],
   "metadata": {}
  },
  {
   "cell_type": "markdown",
   "source": [
    "## Peparing Test Data\r\n",
    "The test data for the competition needs to be prepared as well as did with the training data set. Therefore the trained pipeline (trained only on the training dataset) will be used."
   ],
   "metadata": {}
  },
  {
   "cell_type": "code",
   "execution_count": 46,
   "source": [
    "X_test_prep = pipeline.transform(X_test)"
   ],
   "outputs": [],
   "metadata": {}
  },
  {
   "cell_type": "code",
   "execution_count": 47,
   "source": [
    "X_test_prep"
   ],
   "outputs": [
    {
     "output_type": "execute_result",
     "data": {
      "text/plain": [
       "array([[0., 0., 0., ..., 0., 0., 0.],\n",
       "       [0., 0., 0., ..., 0., 0., 0.],\n",
       "       [0., 0., 0., ..., 0., 0., 0.],\n",
       "       ...,\n",
       "       [0., 0., 0., ..., 0., 0., 0.],\n",
       "       [0., 0., 0., ..., 0., 0., 0.],\n",
       "       [0., 0., 0., ..., 0., 0., 0.]])"
      ]
     },
     "metadata": {},
     "execution_count": 47
    }
   ],
   "metadata": {}
  },
  {
   "cell_type": "markdown",
   "source": [
    "## Creating Competition File"
   ],
   "metadata": {}
  },
  {
   "cell_type": "code",
   "execution_count": 48,
   "source": [
    "mnist_competition_file = pd.DataFrame(columns=['ImageId','Label'])"
   ],
   "outputs": [],
   "metadata": {}
  },
  {
   "cell_type": "markdown",
   "source": [
    "## Prediction of Testdata"
   ],
   "metadata": {}
  },
  {
   "cell_type": "code",
   "execution_count": 49,
   "source": [
    "plt.imshow(X_test_prep[43].reshape(28,28), cmap='Greys')"
   ],
   "outputs": [
    {
     "output_type": "execute_result",
     "data": {
      "text/plain": [
       "<matplotlib.image.AxesImage at 0x20770d99970>"
      ]
     },
     "metadata": {},
     "execution_count": 49
    },
    {
     "output_type": "display_data",
     "data": {
      "image/png": "[encoded data removed]",
      "text/plain": [
       "<Figure size 432x288 with 1 Axes>"
      ]
     },
     "metadata": {
      "needs_background": "light"
     }
    }
   ],
   "metadata": {
    "scrolled": true
   }
  },
  {
   "cell_type": "code",
   "execution_count": 50,
   "source": [
    "print(\"Propability of all lables for given pixels: \", keras_cl_model.predict(X_test_prep[43].reshape(1,-1)))"
   ],
   "outputs": [
    {
     "output_type": "stream",
     "name": "stdout",
     "text": [
      "Propability of all lables for given pixels:  [[1.1749340e-10 5.0075832e-10 2.0038147e-09 1.3065841e-06 1.7239643e-06\n",
      "  3.0038166e-07 4.4249941e-11 1.2916138e-07 1.5389949e-08 9.9999654e-01]]\n"
     ]
    }
   ],
   "metadata": {}
  },
  {
   "cell_type": "code",
   "execution_count": 51,
   "source": [
    "print(\"Predicted Digit: \",np.argmax(keras_cl_model.predict(X_test_prep[43].reshape(1,-1))))"
   ],
   "outputs": [
    {
     "output_type": "stream",
     "name": "stdout",
     "text": [
      "Predicted Digit:  9\n"
     ]
    }
   ],
   "metadata": {}
  },
  {
   "cell_type": "code",
   "execution_count": 52,
   "source": [
    "i = 1\n",
    "for row in X_test_prep:\n",
    "    index = i\n",
    "    predicted_label = np.argmax(keras_cl_model.predict(row.reshape(1,-1)))\n",
    "\n",
    "    mnist_competition_file = mnist_competition_file.append({'ImageId': index, 'Label': predicted_label}, ignore_index = True )\n",
    "    i = i + 1\n",
    "    pass"
   ],
   "outputs": [],
   "metadata": {}
  },
  {
   "cell_type": "code",
   "execution_count": 53,
   "source": [
    "mnist_competition_file"
   ],
   "outputs": [
    {
     "output_type": "execute_result",
     "data": {
      "text/html": [
       "<div>\n",
       "<style scoped>\n",
       "    .dataframe tbody tr th:only-of-type {\n",
       "        vertical-align: middle;\n",
       "    }\n",
       "\n",
       "    .dataframe tbody tr th {\n",
       "        vertical-align: top;\n",
       "    }\n",
       "\n",
       "    .dataframe thead th {\n",
       "        text-align: right;\n",
       "    }\n",
       "</style>\n",
       "<table border=\"1\" class=\"dataframe\">\n",
       "  <thead>\n",
       "    <tr style=\"text-align: right;\">\n",
       "      <th></th>\n",
       "      <th>ImageId</th>\n",
       "      <th>Label</th>\n",
       "    </tr>\n",
       "  </thead>\n",
       "  <tbody>\n",
       "    <tr>\n",
       "      <th>0</th>\n",
       "      <td>1</td>\n",
       "      <td>2</td>\n",
       "    </tr>\n",
       "    <tr>\n",
       "      <th>1</th>\n",
       "      <td>2</td>\n",
       "      <td>0</td>\n",
       "    </tr>\n",
       "    <tr>\n",
       "      <th>2</th>\n",
       "      <td>3</td>\n",
       "      <td>9</td>\n",
       "    </tr>\n",
       "    <tr>\n",
       "      <th>3</th>\n",
       "      <td>4</td>\n",
       "      <td>0</td>\n",
       "    </tr>\n",
       "    <tr>\n",
       "      <th>4</th>\n",
       "      <td>5</td>\n",
       "      <td>3</td>\n",
       "    </tr>\n",
       "    <tr>\n",
       "      <th>...</th>\n",
       "      <td>...</td>\n",
       "      <td>...</td>\n",
       "    </tr>\n",
       "    <tr>\n",
       "      <th>27995</th>\n",
       "      <td>27996</td>\n",
       "      <td>9</td>\n",
       "    </tr>\n",
       "    <tr>\n",
       "      <th>27996</th>\n",
       "      <td>27997</td>\n",
       "      <td>7</td>\n",
       "    </tr>\n",
       "    <tr>\n",
       "      <th>27997</th>\n",
       "      <td>27998</td>\n",
       "      <td>3</td>\n",
       "    </tr>\n",
       "    <tr>\n",
       "      <th>27998</th>\n",
       "      <td>27999</td>\n",
       "      <td>9</td>\n",
       "    </tr>\n",
       "    <tr>\n",
       "      <th>27999</th>\n",
       "      <td>28000</td>\n",
       "      <td>2</td>\n",
       "    </tr>\n",
       "  </tbody>\n",
       "</table>\n",
       "<p>28000 rows × 2 columns</p>\n",
       "</div>"
      ],
      "text/plain": [
       "      ImageId Label\n",
       "0           1     2\n",
       "1           2     0\n",
       "2           3     9\n",
       "3           4     0\n",
       "4           5     3\n",
       "...       ...   ...\n",
       "27995   27996     9\n",
       "27996   27997     7\n",
       "27997   27998     3\n",
       "27998   27999     9\n",
       "27999   28000     2\n",
       "\n",
       "[28000 rows x 2 columns]"
      ]
     },
     "metadata": {},
     "execution_count": 53
    }
   ],
   "metadata": {}
  },
  {
   "cell_type": "code",
   "execution_count": 54,
   "source": [
    "mnist_competition_file.ImageId = mnist_competition_file.ImageId.astype(int)\n",
    "mnist_competition_file.Label = mnist_competition_file.Label.astype(int)"
   ],
   "outputs": [],
   "metadata": {}
  },
  {
   "cell_type": "code",
   "execution_count": 55,
   "source": [
    "mnist_competition_file.to_csv('mnist_submission.csv', index=False)"
   ],
   "outputs": [],
   "metadata": {}
  },
  {
   "cell_type": "code",
   "execution_count": null,
   "source": [],
   "outputs": [],
   "metadata": {}
  }
 ],
 "metadata": {
  "interpreter": {
   "hash": "2b49f70aa2f17b03439dc8f4bbaf601f728142d0d0d774f4bbd10ea7a16b86ea"
  },
  "kernelspec": {
   "name": "python3",
   "display_name": "Python 3.8.10 64-bit ('wingpuflake_keras': conda)"
  },
  "language_info": {
   "codemirror_mode": {
    "name": "ipython",
    "version": 3
   },
   "file_extension": ".py",
   "mimetype": "text/x-python",
   "name": "python",
   "nbconvert_exporter": "python",
   "pygments_lexer": "ipython3",
   "version": "3.8.10"
  }
 },
 "nbformat": 4,
 "nbformat_minor": 5
}